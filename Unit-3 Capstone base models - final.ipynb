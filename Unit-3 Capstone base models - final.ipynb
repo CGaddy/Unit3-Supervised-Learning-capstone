{
 "cells": [
  {
   "cell_type": "markdown",
   "metadata": {},
   "source": [
    "# Heart Disease Classification base models\n",
    "\n",
    "\n",
    "#### I will run base models for the following algorithms for comparison\n",
    "#### I will select only six of the models and I will tune four of the six\n",
    "#### I thought it would be interesting to see how all models perform\n",
    "\n",
    "     *Naive Bayes\n",
    "     *KNN\n",
    "     *Logistic Regression\n",
    "     *Support Vector Machine\n",
    "     *Random Forest\n",
    "     *Gradient Boosting\n",
    "     *Decision Trees\n",
    "     *XGBoost"
   ]
  },
  {
   "cell_type": "code",
   "execution_count": 42,
   "metadata": {},
   "outputs": [],
   "source": [
    "import pandas as pd\n",
    "import numpy as np\n",
    "import scipy\n",
    "import matplotlib.pyplot as plt\n",
    "%matplotlib inline\n",
    "\n",
    "\n",
    "from sklearn import datasets\n",
    "from sklearn.utils import shuffle\n",
    "from sklearn.metrics import mean_squared_error\n",
    "\n",
    "from sklearn import metrics\n",
    "from statsmodels.stats.outliers_influence import variance_inflation_factor\n",
    "from statsmodels.tools.tools import add_constant\n",
    "\n",
    "import xgboost as xgb\n",
    "from sklearn.naive_bayes import BernoulliNB, GaussianNB\n",
    "from sklearn.linear_model import LogisticRegression\n",
    "from sklearn.neighbors import KNeighborsClassifier\n",
    "from sklearn.ensemble import RandomForestClassifier\n",
    "from sklearn.ensemble import AdaBoostClassifier\n",
    "from sklearn.tree import DecisionTreeClassifier\n",
    "\n",
    "from sklearn.metrics import accuracy_score\n",
    "from collections import Counter\n",
    "from sklearn.svm import LinearSVC\n",
    "from sklearn.metrics import classification_report\n",
    "from sklearn.metrics import confusion_matrix\n",
    "from sklearn.metrics import f1_score\n",
    "\n",
    "from sklearn.preprocessing import StandardScaler\n",
    "from sklearn.model_selection import train_test_split\n",
    "from sklearn.model_selection import cross_val_score\n",
    "from sklearn import model_selection\n",
    "from sklearn import neighbors\n",
    "from sklearn import ensemble\n",
    "from sklearn import tree\n",
    "from IPython.display import Image\n",
    "\n",
    "import pydotplus\n",
    "import graphviz\n",
    "import seaborn as sns\n",
    "import scipy.stats as stats\n",
    "\n",
    "# Suppress annoying harmless error.\n",
    "import warnings\n",
    "warnings.filterwarnings(\"ignore\")\n",
    "warnings.filterwarnings(\n",
    "    action=\"ignore\",\n",
    "    module=\"scipy\",\n",
    "    message=\"^internal gelsd\"\n",
    ")"
   ]
  },
  {
   "cell_type": "code",
   "execution_count": 43,
   "metadata": {},
   "outputs": [],
   "source": [
    "X=pd.read_csv('X_train.csv',  index_col=0)\n",
    "y=pd.read_csv('y_train.csv', header=-1, index_col=0)\n",
    "\n",
    "X=X.reset_index()\n",
    "y=y.reset_index()\n",
    "\n",
    "X.drop(X.columns[[0]],axis=1, inplace=True)\n",
    "y.drop(y.columns[[0]],axis=1, inplace=True)"
   ]
  },
  {
   "cell_type": "code",
   "execution_count": 44,
   "metadata": {},
   "outputs": [
    {
     "data": {
      "text/plain": [
       "const                  207.256646\n",
       "age                      1.443474\n",
       "sex                      1.161866\n",
       "chest_pain               1.284456\n",
       "resting_bp               1.170591\n",
       "cholesterol              1.150174\n",
       "fasting_blood_sugar      1.087379\n",
       "resting_ecg              1.060998\n",
       "max_heart_rate           1.613726\n",
       "exercise_angina          1.402001\n",
       "oldpeak                  1.705857\n",
       "slope                    1.642595\n",
       "num_major_vessels        1.202570\n",
       "thalium_stress_test      1.147279\n",
       "dtype: float64"
      ]
     },
     "execution_count": 44,
     "metadata": {},
     "output_type": "execute_result"
    }
   ],
   "source": [
    "vif_X = add_constant(X.iloc[:, :])\n",
    "pd.Series([variance_inflation_factor(vif_X.values, i) \n",
    "               for i in range(vif_X.shape[1])], \n",
    "              index=vif_X.columns)"
   ]
  },
  {
   "cell_type": "code",
   "execution_count": 45,
   "metadata": {},
   "outputs": [],
   "source": [
    "from sklearn.model_selection import train_test_split\n",
    "# Splitting the data into train and test\n",
    "X_train, X_test, y_train, y_test = train_test_split(X, y,test_size=0.20,random_state = 99)"
   ]
  },
  {
   "cell_type": "code",
   "execution_count": 46,
   "metadata": {},
   "outputs": [
    {
     "data": {
      "text/html": [
       "<div>\n",
       "<style scoped>\n",
       "    .dataframe tbody tr th:only-of-type {\n",
       "        vertical-align: middle;\n",
       "    }\n",
       "\n",
       "    .dataframe tbody tr th {\n",
       "        vertical-align: top;\n",
       "    }\n",
       "\n",
       "    .dataframe thead th {\n",
       "        text-align: right;\n",
       "    }\n",
       "</style>\n",
       "<table border=\"1\" class=\"dataframe\">\n",
       "  <thead>\n",
       "    <tr style=\"text-align: right;\">\n",
       "      <th></th>\n",
       "      <th>age</th>\n",
       "      <th>sex</th>\n",
       "      <th>chest_pain</th>\n",
       "      <th>resting_bp</th>\n",
       "      <th>cholesterol</th>\n",
       "      <th>fasting_blood_sugar</th>\n",
       "      <th>resting_ecg</th>\n",
       "      <th>max_heart_rate</th>\n",
       "      <th>exercise_angina</th>\n",
       "      <th>oldpeak</th>\n",
       "      <th>slope</th>\n",
       "      <th>num_major_vessels</th>\n",
       "      <th>thalium_stress_test</th>\n",
       "    </tr>\n",
       "  </thead>\n",
       "  <tbody>\n",
       "    <tr>\n",
       "      <th>103</th>\n",
       "      <td>42</td>\n",
       "      <td>1</td>\n",
       "      <td>2</td>\n",
       "      <td>120</td>\n",
       "      <td>240</td>\n",
       "      <td>1</td>\n",
       "      <td>1</td>\n",
       "      <td>194</td>\n",
       "      <td>0</td>\n",
       "      <td>0.8</td>\n",
       "      <td>0</td>\n",
       "      <td>0</td>\n",
       "      <td>3</td>\n",
       "    </tr>\n",
       "    <tr>\n",
       "      <th>136</th>\n",
       "      <td>60</td>\n",
       "      <td>0</td>\n",
       "      <td>2</td>\n",
       "      <td>120</td>\n",
       "      <td>178</td>\n",
       "      <td>1</td>\n",
       "      <td>1</td>\n",
       "      <td>96</td>\n",
       "      <td>0</td>\n",
       "      <td>0.0</td>\n",
       "      <td>2</td>\n",
       "      <td>0</td>\n",
       "      <td>2</td>\n",
       "    </tr>\n",
       "    <tr>\n",
       "      <th>164</th>\n",
       "      <td>38</td>\n",
       "      <td>1</td>\n",
       "      <td>2</td>\n",
       "      <td>138</td>\n",
       "      <td>175</td>\n",
       "      <td>0</td>\n",
       "      <td>1</td>\n",
       "      <td>173</td>\n",
       "      <td>0</td>\n",
       "      <td>0.0</td>\n",
       "      <td>2</td>\n",
       "      <td>4</td>\n",
       "      <td>2</td>\n",
       "    </tr>\n",
       "    <tr>\n",
       "      <th>141</th>\n",
       "      <td>43</td>\n",
       "      <td>1</td>\n",
       "      <td>0</td>\n",
       "      <td>115</td>\n",
       "      <td>303</td>\n",
       "      <td>0</td>\n",
       "      <td>1</td>\n",
       "      <td>181</td>\n",
       "      <td>0</td>\n",
       "      <td>1.2</td>\n",
       "      <td>1</td>\n",
       "      <td>0</td>\n",
       "      <td>2</td>\n",
       "    </tr>\n",
       "    <tr>\n",
       "      <th>124</th>\n",
       "      <td>39</td>\n",
       "      <td>0</td>\n",
       "      <td>2</td>\n",
       "      <td>94</td>\n",
       "      <td>199</td>\n",
       "      <td>0</td>\n",
       "      <td>1</td>\n",
       "      <td>179</td>\n",
       "      <td>0</td>\n",
       "      <td>0.0</td>\n",
       "      <td>2</td>\n",
       "      <td>0</td>\n",
       "      <td>2</td>\n",
       "    </tr>\n",
       "  </tbody>\n",
       "</table>\n",
       "</div>"
      ],
      "text/plain": [
       "     age  sex  chest_pain  resting_bp  cholesterol  fasting_blood_sugar  \\\n",
       "103   42    1           2         120          240                    1   \n",
       "136   60    0           2         120          178                    1   \n",
       "164   38    1           2         138          175                    0   \n",
       "141   43    1           0         115          303                    0   \n",
       "124   39    0           2          94          199                    0   \n",
       "\n",
       "     resting_ecg  max_heart_rate  exercise_angina  oldpeak  slope  \\\n",
       "103            1             194                0      0.8      0   \n",
       "136            1              96                0      0.0      2   \n",
       "164            1             173                0      0.0      2   \n",
       "141            1             181                0      1.2      1   \n",
       "124            1             179                0      0.0      2   \n",
       "\n",
       "     num_major_vessels  thalium_stress_test  \n",
       "103                  0                    3  \n",
       "136                  0                    2  \n",
       "164                  4                    2  \n",
       "141                  0                    2  \n",
       "124                  0                    2  "
      ]
     },
     "execution_count": 46,
     "metadata": {},
     "output_type": "execute_result"
    }
   ],
   "source": [
    "from sklearn.preprocessing import StandardScaler\n",
    "sc=StandardScaler()\n",
    "X_train_sc=sc.fit_transform(X_train)\n",
    "X_test_sc=sc.fit_transform(X_test)\n",
    "X_train.head()"
   ]
  },
  {
   "cell_type": "code",
   "execution_count": 56,
   "metadata": {},
   "outputs": [
    {
     "name": "stdout",
     "output_type": "stream",
     "text": [
      "\t score\t  stdev\t\tmean cross-validation\n",
      "NB:\t0.781224 (0.049980) \t0.820971\n",
      "KNN:\t0.656790 (0.047409) \t0.653730\n",
      "LR:\t0.814300 (0.043216) \t0.823745\n",
      "SVM:\t0.701903 (0.098702) \t0.767586\n",
      "RFC:\t0.772891 (0.041218) \t0.784383\n",
      "GMB:\t0.789352 (0.019223) \t0.810319\n",
      "DTC:\t0.752263 (0.060660) \t0.758383\n",
      "XGB:\t0.801852 (0.039567) \t0.803967\n"
     ]
    }
   ],
   "source": [
    "print('\\t score\\t  stdev\\t\\tmean cross-validation')\n",
    "results = []\n",
    "names = []\n",
    "models = []\n",
    "cross_val = []\n",
    "\n",
    "models.append(('NB', BernoulliNB()))\n",
    "models.append(('KNN', neighbors.KNeighborsClassifier()))\n",
    "models.append(('LR', LogisticRegression()))\n",
    "models.append(('SVM', LinearSVC()))\n",
    "models.append(('RFC', ensemble.RandomForestClassifier()))\n",
    "models.append(('GMB', ensemble.GradientBoostingClassifier()))\n",
    "models.append(('DTC', tree.DecisionTreeClassifier(criterion='entropy')))\n",
    "models.append(('XGB', xgb.XGBClassifier()))\n",
    "\n",
    "\n",
    "for name, model in models:\n",
    "    kfold = model_selection.KFold(n_splits = 3, random_state = 99)\n",
    "    cv_results = model_selection.cross_val_score(model, X_train, y_train,\n",
    "                                                cv = kfold, \n",
    "                                                 scoring = 'accuracy')\n",
    "    score = cross_val_score(model, X, y, cv=10)\n",
    "    results.append(cv_results)\n",
    "    names.append(name)\n",
    "    cross_val.append(score.mean())\n",
    "    \n",
    "    msg = \"%s:\\t%f (%f) \\t%f\" % (name, cv_results.mean(), cv_results.std(), score.mean())\n",
    "    print(msg)\n"
   ]
  },
  {
   "cell_type": "code",
   "execution_count": 48,
   "metadata": {},
   "outputs": [
    {
     "data": {
      "image/png": "[encoded data removed]",
      "text/plain": [
       "<Figure size 432x288 with 1 Axes>"
      ]
     },
     "metadata": {
      "needs_background": "light"
     },
     "output_type": "display_data"
    }
   ],
   "source": [
    "#the accuracy scores\n",
    "fig = plt.figure()\n",
    "fig.suptitle('Base Models\\n(Accuracy Score)')\n",
    "ax = fig.add_subplot(111)\n",
    "plt.boxplot(results)\n",
    "ax.set_xticklabels(names)\n",
    "plt.show()"
   ]
  },
  {
   "cell_type": "code",
   "execution_count": 52,
   "metadata": {},
   "outputs": [
    {
     "data": {
      "image/png": "[encoded data removed]",
      "text/plain": [
       "<Figure size 432x288 with 1 Axes>"
      ]
     },
     "metadata": {
      "needs_background": "light"
     },
     "output_type": "display_data"
    }
   ],
   "source": [
    "fig = plt.figure()\n",
    "fig.suptitle('Models\\n(ROC-AUC)')\n",
    "ax = fig.add_subplot(111)\n",
    "plt.boxplot(results)\n",
    "ax.set_xticklabels(names)\n",
    "plt.show()"
   ]
  }
 ],
 "metadata": {
  "kernelspec": {
   "display_name": "Python 3",
   "language": "python",
   "name": "python3"
  },
  "language_info": {
   "codemirror_mode": {
    "name": "ipython",
    "version": 3
   },
   "file_extension": ".py",
   "mimetype": "text/x-python",
   "name": "python",
   "nbconvert_exporter": "python",
   "pygments_lexer": "ipython3",
   "version": "3.7.1"
  }
 },
 "nbformat": 4,
 "nbformat_minor": 2
}
