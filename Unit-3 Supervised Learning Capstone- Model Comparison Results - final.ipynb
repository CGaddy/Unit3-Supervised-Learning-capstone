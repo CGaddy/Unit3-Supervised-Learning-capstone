{
 "cells": [
  {
   "cell_type": "markdown",
   "metadata": {},
   "source": [
    "\n",
    "## I compared the tuned models side by side\n",
    "\n"
   ]
  },
  {
   "cell_type": "code",
   "execution_count": 37,
   "metadata": {},
   "outputs": [],
   "source": [
    "import numpy as np\n",
    "import pandas as pd\n",
    "import seaborn as sns\n",
    "from pandas.tools.plotting import scatter_matrix\n",
    "import matplotlib.pyplot as plt\n",
    "from time import time\n",
    "from IPython.display import display\n",
    "from sklearn import model_selection\n",
    "from sklearn.metrics import accuracy_score\n",
    "from sklearn.metrics import classification_report\n",
    "from sklearn.metrics import confusion_matrix\n",
    "from sklearn.metrics import f1_score\n",
    "from sklearn.linear_model import LogisticRegression\n",
    "from sklearn.tree import DecisionTreeClassifier\n",
    "from sklearn.neighbors import KNeighborsClassifier\n",
    "from sklearn.ensemble import RandomForestClassifier\n",
    "from sklearn.ensemble import AdaBoostClassifier\n",
    "import xgboost as xgb\n",
    "\n",
    "\n",
    "from sklearn.svm import SVC\n",
    "%matplotlib inline\n",
    "import warnings\n",
    "warnings.filterwarnings('ignore')"
   ]
  },
  {
   "cell_type": "code",
   "execution_count": 38,
   "metadata": {},
   "outputs": [],
   "source": [
    "X=pd.read_csv('X_train.csv',  index_col=0)\n",
    "y=pd.read_csv('y_train.csv', header=-1, index_col=0)\n",
    "\n",
    "X=X.reset_index()\n",
    "y=y.reset_index()\n",
    "\n",
    "X.drop(X.columns[[0]],axis=1, inplace=True)\n",
    "y.drop(y.columns[[0]],axis=1, inplace=True)"
   ]
  },
  {
   "cell_type": "code",
   "execution_count": 39,
   "metadata": {},
   "outputs": [],
   "source": [
    "from xgboost import XGBClassifier"
   ]
  },
  {
   "cell_type": "code",
   "execution_count": 40,
   "metadata": {},
   "outputs": [],
   "source": [
    "from sklearn.model_selection import train_test_split \n",
    "X_train, X_test, y_train, y_test = train_test_split(X,y, train_size=0.8,test_size=0.2,random_state=99)\n"
   ]
  },
  {
   "cell_type": "code",
   "execution_count": 51,
   "metadata": {},
   "outputs": [
    {
     "name": "stdout",
     "output_type": "stream",
     "text": [
      "\t score\t  std\n",
      "KNN:\t0.700731 (0.061168)\n",
      "SVC:\t0.875028 (0.054153)\n",
      "RF:\t0.895825 (0.034495)\n",
      "XGB:\t0.915109 (0.030080)\n"
     ]
    }
   ],
   "source": [
    "#ROC-AUC scores for all of our models.\n",
    "print('\\t score\\t  std')\n",
    "results = []\n",
    "names = []\n",
    "models = []\n",
    "models.append(('KNN', KNeighborsClassifier(n_neighbors=5)))\n",
    "models.append(('SVC', SVC(kernel='linear',C=1,gamma=0.1)))\n",
    "models.append(('RF', RandomForestClassifier(bootstrap=True,\n",
    "                             max_depth=5,\n",
    "                             min_samples_leaf=7, \n",
    "                             min_samples_split=18,\n",
    "                             max_features=4,\n",
    "                             n_estimators=29)))\n",
    "models.append(('XGB',  XGBClassifier(bootstrap=True,\n",
    "                    subsample= 1.0,\n",
    "                             n_estimators=95,\n",
    "                             max_depth=4, \n",
    "                             learning_rate=0.1,\n",
    "                             colsample_bytree=0.9,\n",
    "                             colsample_bylevel=0.1)))\n",
    "\n",
    "for name, model in models:\n",
    "    kfold = model_selection.KFold(n_splits = 3, random_state = 99)\n",
    "    cv_results = model_selection.cross_val_score(model, X_train, y_train,\n",
    "                                                cv = kfold, \n",
    "                                                 scoring = 'roc_auc')\n",
    "    results.append(cv_results)\n",
    "    names.append(name)\n",
    "    msg = \"%s:\\t%f (%f)\" % (name, cv_results.mean(), cv_results.std())\n",
    "    print(msg)\n",
    "    "
   ]
  },
  {
   "cell_type": "code",
   "execution_count": 52,
   "metadata": {},
   "outputs": [
    {
     "data": {
      "image/png": "[encoded data removed]",
      "text/plain": [
       "<Figure size 432x288 with 1 Axes>"
      ]
     },
     "metadata": {
      "needs_background": "light"
     },
     "output_type": "display_data"
    }
   ],
   "source": [
    "#Let's take a look at these ROC-AUC scores on a box plot\n",
    "fig = plt.figure()\n",
    "fig.suptitle('Models\\n(ROC-AUC)')\n",
    "ax = fig.add_subplot(111)\n",
    "plt.boxplot(results)\n",
    "ax.set_xticklabels(names)\n",
    "plt.show()"
   ]
  },
  {
   "cell_type": "markdown",
   "metadata": {},
   "source": [
    "------"
   ]
  },
  {
   "cell_type": "markdown",
   "metadata": {},
   "source": [
    "* XGB has the best roc/auc score and it's the most stable model.\n",
    "* KNN is not a good model for this classification"
   ]
  },
  {
   "cell_type": "code",
   "execution_count": 53,
   "metadata": {},
   "outputs": [
    {
     "name": "stdout",
     "output_type": "stream",
     "text": [
      "\t score\t  std\n",
      "KNN:\t0.656790 (0.047409)\n",
      "SVC:\t0.532716 (0.060412)\n",
      "RF:\t0.793570 (0.034548)\n",
      "XGB:\t0.826698 (0.043288)\n"
     ]
    }
   ],
   "source": [
    "#Let's see the accuracy scores for all of our models. \n",
    "models = []\n",
    "results = []\n",
    "names = []\n",
    "print('\\t score\\t  std')\n",
    "models.append(('KNN', KNeighborsClassifier(n_neighbors=5)))\n",
    "models.append(('SVC', SVC(kernel='rbf',C=1,gamma=0.1)))\n",
    "models.append(('RF', RandomForestClassifier(bootstrap=True,\n",
    "                             max_depth=5,\n",
    "                             min_samples_leaf=7, \n",
    "                             min_samples_split=18,\n",
    "                             max_features=4,\n",
    "                             n_estimators=29)))\n",
    "models.append(('XGB',  XGBClassifier(bootstrap=True,\n",
    "                    subsample= 1.0,\n",
    "                             n_estimators=95,\n",
    "                             max_depth=4, \n",
    "                             learning_rate=0.1,\n",
    "                             colsample_bytree=0.9,\n",
    "                             colsample_bylevel=0.1)))\n",
    "\n",
    "\n",
    "for name, model in models:\n",
    "    kfold = model_selection.KFold(n_splits = 3, random_state = 99)\n",
    "    cv_results = model_selection.cross_val_score(model, X_train, y_train,\n",
    "                                                cv = kfold, \n",
    "                                                 scoring = 'accuracy')\n",
    "    results.append(cv_results)\n",
    "    names.append(name)\n",
    "    msg = \"%s:\\t%f (%f)\" % (name, cv_results.mean(), cv_results.std())\n",
    "    print(msg)"
   ]
  },
  {
   "cell_type": "code",
   "execution_count": 54,
   "metadata": {},
   "outputs": [
    {
     "data": {
      "image/png": "[encoded data removed]",
      "text/plain": [
       "<Figure size 432x288 with 1 Axes>"
      ]
     },
     "metadata": {
      "needs_background": "light"
     },
     "output_type": "display_data"
    }
   ],
   "source": [
    "#Let's take a look at the Accuracy scores on a box plot\n",
    "fig = plt.figure()\n",
    "fig.suptitle('Models\\n(Accuracy)')\n",
    "ax = fig.add_subplot(111)\n",
    "plt.boxplot(results)\n",
    "ax.set_xticklabels(names)\n",
    "plt.show()"
   ]
  },
  {
   "cell_type": "markdown",
   "metadata": {},
   "source": [
    "* XGB has the highest accuracy score \n",
    "* Random Forest is the most stable\n",
    "* Because the difference in the standard deviation is not that large, I will pick XGB as the best over all model."
   ]
  },
  {
   "cell_type": "markdown",
   "metadata": {},
   "source": [
    "#### XGB model evaluation"
   ]
  },
  {
   "cell_type": "code",
   "execution_count": 45,
   "metadata": {},
   "outputs": [],
   "source": [
    "best_model = XGBClassifier(bootstrap=True,\n",
    "                    subsample= 1.0,\n",
    "                             n_estimators=95,\n",
    "                             max_depth=4, \n",
    "                             learning_rate=0.1,\n",
    "                             colsample_bytree=0.9,\n",
    "                             colsample_bylevel=0.1)\n",
    "best_model.fit(X_train, y_train)\n",
    "y_pred = best_model.predict(X_test)"
   ]
  },
  {
   "cell_type": "code",
   "execution_count": 46,
   "metadata": {},
   "outputs": [
    {
     "name": "stdout",
     "output_type": "stream",
     "text": [
      "[[20  3]\n",
      " [ 7 31]]\n"
     ]
    }
   ],
   "source": [
    "from sklearn import metrics\n",
    "confusion=metrics.confusion_matrix(y_true=y_test, y_pred=y_pred)\n",
    "TP=confusion[1,1]\n",
    "TN=confusion[0,0]\n",
    "FP=confusion[0,1]\n",
    "FN=confusion[1,0]\n",
    "print (confusion)"
   ]
  },
  {
   "cell_type": "code",
   "execution_count": 47,
   "metadata": {},
   "outputs": [
    {
     "name": "stdout",
     "output_type": "stream",
     "text": [
      "True positive rate\n",
      "Specificity(precision): 0.8695652173913043\n",
      "\n",
      "True negative rate\n",
      "Sensitivity(recall): 0.8157894736842105\n"
     ]
    }
   ],
   "source": [
    "print('True positive rate\\nSpecificity(precision):',TN/(TN+FP))\n",
    "\n",
    "print('\\nTrue negative rate\\nSensitivity(recall):',TP/(TP+FN))"
   ]
  },
  {
   "cell_type": "markdown",
   "metadata": {},
   "source": [
    "*  A test that is 87% specific will identify 87% \n",
    "    of patients who do not have the disease.\n",
    "\n",
    "*  A test with 82% sensitivity will identify 82% \n",
    "    of patients who have the disease, but will miss 13% of patients who have the disease."
   ]
  },
  {
   "cell_type": "code",
   "execution_count": 48,
   "metadata": {},
   "outputs": [],
   "source": [
    "xgb_importance=pd.DataFrame(list(best_model.get_booster().get_score(importance_type='weight').items()))"
   ]
  },
  {
   "cell_type": "code",
   "execution_count": 49,
   "metadata": {},
   "outputs": [
    {
     "name": "stdout",
     "output_type": "stream",
     "text": [
      "                 feature  importance\n",
      "6           cholesterol          91\n",
      "1            resting_bp          86\n",
      "3                   age          83\n",
      "9     num_major_vessels          56\n",
      "2   thalium_stress_test          48\n",
      "0               oldpeak          45\n",
      "5        max_heart_rate          45\n",
      "10                  sex          43\n",
      "12           chest_pain          42\n",
      "11      exercise_angina          40\n",
      "7           resting_ecg          38\n",
      "8                 slope          32\n",
      "4   fasting_blood_sugar          27\n"
     ]
    }
   ],
   "source": [
    "xgb_fea_imp=pd.DataFrame(list(best_model.get_booster().get_fscore().items()),\n",
    "columns=['feature','importance']).sort_values('importance', ascending=False)\n",
    "print('',xgb_fea_imp)"
   ]
  },
  {
   "cell_type": "code",
   "execution_count": 50,
   "metadata": {},
   "outputs": [
    {
     "data": {
      "text/plain": [
       "<Figure size 2160x1080 with 0 Axes>"
      ]
     },
     "metadata": {},
     "output_type": "display_data"
    },
    {
     "data": {
      "image/png": "[encoded data removed]",
      "text/plain": [
       "<Figure size 432x288 with 1 Axes>"
      ]
     },
     "metadata": {
      "needs_background": "light"
     },
     "output_type": "display_data"
    },
    {
     "data": {
      "text/plain": [
       "''"
      ]
     },
     "execution_count": 50,
     "metadata": {},
     "output_type": "execute_result"
    }
   ],
   "source": [
    "plt.figure(figsize=(30,15))\n",
    "from xgboost import plot_importance\n",
    "plot_importance(best_model)\n",
    "plt.show()\n",
    ";"
   ]
  },
  {
   "cell_type": "markdown",
   "metadata": {},
   "source": [
    "* The most significant feature to predict heart disease for this model is Cholesterol. "
   ]
  },
  {
   "cell_type": "code",
   "execution_count": null,
   "metadata": {},
   "outputs": [],
   "source": []
  }
 ],
 "metadata": {
  "kernelspec": {
   "display_name": "Python 3",
   "language": "python",
   "name": "python3"
  },
  "language_info": {
   "codemirror_mode": {
    "name": "ipython",
    "version": 3
   },
   "file_extension": ".py",
   "mimetype": "text/x-python",
   "name": "python",
   "nbconvert_exporter": "python",
   "pygments_lexer": "ipython3",
   "version": "3.7.1"
  }
 },
 "nbformat": 4,
 "nbformat_minor": 2
}
