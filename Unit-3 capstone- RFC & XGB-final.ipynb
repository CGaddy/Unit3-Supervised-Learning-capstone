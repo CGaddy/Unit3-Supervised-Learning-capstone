{
 "cells": [
  {
   "cell_type": "markdown",
   "metadata": {},
   "source": [
    "# Random Forest tuning"
   ]
  },
  {
   "cell_type": "code",
   "execution_count": 1,
   "metadata": {},
   "outputs": [],
   "source": [
    "import pandas as pd\n",
    "import numpy as np\n",
    "import matplotlib.pyplot as plt\n",
    "import seaborn as sns\n",
    "import scipy\n",
    "\n",
    "from sklearn.ensemble import RandomForestClassifier\n",
    "from sklearn import ensemble\n",
    "\n",
    "from sklearn.model_selection import KFold\n",
    "from sklearn.model_selection import GridSearchCV\n",
    "\n",
    "from sklearn.model_selection import cross_val_score, cross_val_predict\n",
    "from sklearn import preprocessing\n",
    "from sklearn.model_selection import train_test_split\n",
    "\n",
    "from sklearn import metrics\n",
    "from sklearn.tree import DecisionTreeClassifier\n",
    "from sklearn.metrics import classification_report, confusion_matrix, accuracy_score\n",
    "\n",
    "\n",
    "import warnings\n",
    "warnings.filterwarnings(\"ignore\")"
   ]
  },
  {
   "cell_type": "code",
   "execution_count": 2,
   "metadata": {},
   "outputs": [],
   "source": [
    "X=pd.read_csv('X_train.csv', index_col=0)\n",
    "y=pd.read_csv('y_train.csv', header=-1, index_col=0)\n",
    "\n",
    "X=X.reset_index()\n",
    "y=y.reset_index()\n",
    "\n",
    "X.drop(X.columns[[0]],axis=1, inplace=True)\n",
    "y.drop(y.columns[[0]],axis=1, inplace=True)"
   ]
  },
  {
   "cell_type": "code",
   "execution_count": 3,
   "metadata": {},
   "outputs": [],
   "source": [
    "# Splitting the data into train and test\n",
    "X_train, X_test, y_train, y_test = train_test_split(X, y,test_size=0.20,random_state = 99)"
   ]
  },
  {
   "cell_type": "code",
   "execution_count": 47,
   "metadata": {},
   "outputs": [],
   "source": [
    "def print_score(clf, X_train, y_train, X_test, y_test, train=True):\n",
    "    '''\n",
    "    print the accuracy score, classification report and confusion matrix of classifier\n",
    "    '''\n",
    "    if train:\n",
    "        '''\n",
    "        training performance\n",
    "        '''\n",
    "        print(\"Train Result:\\n\")\n",
    "        print(\"accuracy score: {0:.4f}\\n\".format(accuracy_score(y_train, clf.predict(X_train))))\n",
    "        print(\"Classification Report: \\n {}\\n\".format(classification_report(y_train, clf.predict(X_train))))\n",
    "        print(\"Confusion Matrix: \\n {}\\n\".format(confusion_matrix(y_train, clf.predict(X_train))))\n",
    "\n",
    "        res = cross_val_score(clf, X_train, y_train, cv=10, scoring='accuracy')\n",
    "        print(\"Average Accuracy: \\t {0:.4f}\".format(np.mean(res)))\n",
    "        print(\"Accuracy SD: \\t\\t {0:.4f}\".format(np.std(res)))\n",
    "        print('\\n-----------------------------------------------------\\n')\n",
    "        \n",
    "    elif train==False:\n",
    "        '''\n",
    "        test performance\n",
    "        '''\n",
    "        print(\"Test Result:\\n\")        \n",
    "        print(\"accuracy score: {0:.4f}\\n\".format(accuracy_score(y_test, clf.predict(X_test))))\n",
    "        print(\"Classification Report: \\n {}\\n\".format(classification_report(y_test, clf.predict(X_test))))\n",
    "        print(\"Confusion Matrix: \\n {}\\n\".format(confusion_matrix(y_test, clf.predict(X_test))))  "
   ]
  },
  {
   "cell_type": "markdown",
   "metadata": {},
   "source": [
    "#### max_depth"
   ]
  },
  {
   "cell_type": "code",
   "execution_count": 5,
   "metadata": {},
   "outputs": [
    {
     "data": {
      "text/plain": [
       "GridSearchCV(cv=10, error_score='raise-deprecating',\n",
       "       estimator=RandomForestClassifier(bootstrap=True, class_weight=None, criterion='gini',\n",
       "            max_depth=None, max_features='auto', max_leaf_nodes=None,\n",
       "            min_impurity_decrease=0.0, min_impurity_split=None,\n",
       "            min_samples_leaf=1, min_samples_split=2,\n",
       "            min_weight_fraction_leaf=0.0, n_estimators='warn', n_jobs=None,\n",
       "            oob_score=False, random_state=None, verbose=0,\n",
       "            warm_start=False),\n",
       "       fit_params=None, iid='warn', n_jobs=None,\n",
       "       param_grid={'max_depth': range(1, 45, 5)}, pre_dispatch='2*n_jobs',\n",
       "       refit=True, return_train_score='warn', scoring='accuracy',\n",
       "       verbose=0)"
      ]
     },
     "execution_count": 5,
     "metadata": {},
     "output_type": "execute_result"
    }
   ],
   "source": [
    "# specify number of folds for k-fold CV\n",
    "n_folds = 10\n",
    "\n",
    "# parameters to build the model on\n",
    "parameters = {'max_depth': range(1, 45, 5)}\n",
    "\n",
    "# instantiate the model\n",
    "rf = RandomForestClassifier()\n",
    "\n",
    "\n",
    "# fit tree on training data\n",
    "rf = GridSearchCV(rf, parameters, \n",
    "                    cv=n_folds, \n",
    "                   scoring=\"accuracy\")\n",
    "rf.fit(X_train, y_train)"
   ]
  },
  {
   "cell_type": "code",
   "execution_count": 6,
   "metadata": {},
   "outputs": [
    {
     "data": {
      "text/html": [
       "<div>\n",
       "<style scoped>\n",
       "    .dataframe tbody tr th:only-of-type {\n",
       "        vertical-align: middle;\n",
       "    }\n",
       "\n",
       "    .dataframe tbody tr th {\n",
       "        vertical-align: top;\n",
       "    }\n",
       "\n",
       "    .dataframe thead th {\n",
       "        text-align: right;\n",
       "    }\n",
       "</style>\n",
       "<table border=\"1\" class=\"dataframe\">\n",
       "  <thead>\n",
       "    <tr style=\"text-align: right;\">\n",
       "      <th></th>\n",
       "      <th>mean_fit_time</th>\n",
       "      <th>std_fit_time</th>\n",
       "      <th>mean_score_time</th>\n",
       "      <th>std_score_time</th>\n",
       "      <th>param_max_depth</th>\n",
       "      <th>params</th>\n",
       "      <th>split0_test_score</th>\n",
       "      <th>split1_test_score</th>\n",
       "      <th>split2_test_score</th>\n",
       "      <th>split3_test_score</th>\n",
       "      <th>...</th>\n",
       "      <th>split2_train_score</th>\n",
       "      <th>split3_train_score</th>\n",
       "      <th>split4_train_score</th>\n",
       "      <th>split5_train_score</th>\n",
       "      <th>split6_train_score</th>\n",
       "      <th>split7_train_score</th>\n",
       "      <th>split8_train_score</th>\n",
       "      <th>split9_train_score</th>\n",
       "      <th>mean_train_score</th>\n",
       "      <th>std_train_score</th>\n",
       "    </tr>\n",
       "  </thead>\n",
       "  <tbody>\n",
       "    <tr>\n",
       "      <th>0</th>\n",
       "      <td>0.010234</td>\n",
       "      <td>0.002480</td>\n",
       "      <td>0.001715</td>\n",
       "      <td>0.000224</td>\n",
       "      <td>1</td>\n",
       "      <td>{'max_depth': 1}</td>\n",
       "      <td>0.80</td>\n",
       "      <td>0.88</td>\n",
       "      <td>0.88</td>\n",
       "      <td>0.72</td>\n",
       "      <td>...</td>\n",
       "      <td>0.824885</td>\n",
       "      <td>0.834101</td>\n",
       "      <td>0.797235</td>\n",
       "      <td>0.784404</td>\n",
       "      <td>0.811927</td>\n",
       "      <td>0.799087</td>\n",
       "      <td>0.831050</td>\n",
       "      <td>0.803653</td>\n",
       "      <td>0.808542</td>\n",
       "      <td>0.017160</td>\n",
       "    </tr>\n",
       "    <tr>\n",
       "      <th>1</th>\n",
       "      <td>0.009292</td>\n",
       "      <td>0.000255</td>\n",
       "      <td>0.001589</td>\n",
       "      <td>0.000052</td>\n",
       "      <td>6</td>\n",
       "      <td>{'max_depth': 6}</td>\n",
       "      <td>0.88</td>\n",
       "      <td>0.72</td>\n",
       "      <td>0.84</td>\n",
       "      <td>0.80</td>\n",
       "      <td>...</td>\n",
       "      <td>0.976959</td>\n",
       "      <td>0.986175</td>\n",
       "      <td>0.963134</td>\n",
       "      <td>0.972477</td>\n",
       "      <td>0.963303</td>\n",
       "      <td>0.972603</td>\n",
       "      <td>0.972603</td>\n",
       "      <td>0.954338</td>\n",
       "      <td>0.969707</td>\n",
       "      <td>0.008224</td>\n",
       "    </tr>\n",
       "    <tr>\n",
       "      <th>2</th>\n",
       "      <td>0.009403</td>\n",
       "      <td>0.000125</td>\n",
       "      <td>0.001631</td>\n",
       "      <td>0.000064</td>\n",
       "      <td>11</td>\n",
       "      <td>{'max_depth': 11}</td>\n",
       "      <td>0.76</td>\n",
       "      <td>0.68</td>\n",
       "      <td>0.80</td>\n",
       "      <td>0.76</td>\n",
       "      <td>...</td>\n",
       "      <td>0.986175</td>\n",
       "      <td>1.000000</td>\n",
       "      <td>1.000000</td>\n",
       "      <td>0.981651</td>\n",
       "      <td>1.000000</td>\n",
       "      <td>0.990868</td>\n",
       "      <td>0.995434</td>\n",
       "      <td>0.995434</td>\n",
       "      <td>0.993574</td>\n",
       "      <td>0.005883</td>\n",
       "    </tr>\n",
       "    <tr>\n",
       "      <th>3</th>\n",
       "      <td>0.009426</td>\n",
       "      <td>0.000178</td>\n",
       "      <td>0.001627</td>\n",
       "      <td>0.000095</td>\n",
       "      <td>16</td>\n",
       "      <td>{'max_depth': 16}</td>\n",
       "      <td>0.88</td>\n",
       "      <td>0.76</td>\n",
       "      <td>0.76</td>\n",
       "      <td>0.76</td>\n",
       "      <td>...</td>\n",
       "      <td>0.995392</td>\n",
       "      <td>0.995392</td>\n",
       "      <td>1.000000</td>\n",
       "      <td>0.990826</td>\n",
       "      <td>0.995413</td>\n",
       "      <td>0.995434</td>\n",
       "      <td>1.000000</td>\n",
       "      <td>0.995434</td>\n",
       "      <td>0.994485</td>\n",
       "      <td>0.004962</td>\n",
       "    </tr>\n",
       "    <tr>\n",
       "      <th>4</th>\n",
       "      <td>0.009470</td>\n",
       "      <td>0.000263</td>\n",
       "      <td>0.001620</td>\n",
       "      <td>0.000059</td>\n",
       "      <td>21</td>\n",
       "      <td>{'max_depth': 21}</td>\n",
       "      <td>0.72</td>\n",
       "      <td>0.76</td>\n",
       "      <td>0.76</td>\n",
       "      <td>0.72</td>\n",
       "      <td>...</td>\n",
       "      <td>0.990783</td>\n",
       "      <td>0.981567</td>\n",
       "      <td>1.000000</td>\n",
       "      <td>0.990826</td>\n",
       "      <td>0.986239</td>\n",
       "      <td>0.986301</td>\n",
       "      <td>0.995434</td>\n",
       "      <td>0.986301</td>\n",
       "      <td>0.989441</td>\n",
       "      <td>0.005835</td>\n",
       "    </tr>\n",
       "  </tbody>\n",
       "</table>\n",
       "<p>5 rows × 31 columns</p>\n",
       "</div>"
      ],
      "text/plain": [
       "   mean_fit_time  std_fit_time  mean_score_time  std_score_time  \\\n",
       "0       0.010234      0.002480         0.001715        0.000224   \n",
       "1       0.009292      0.000255         0.001589        0.000052   \n",
       "2       0.009403      0.000125         0.001631        0.000064   \n",
       "3       0.009426      0.000178         0.001627        0.000095   \n",
       "4       0.009470      0.000263         0.001620        0.000059   \n",
       "\n",
       "  param_max_depth             params  split0_test_score  split1_test_score  \\\n",
       "0               1   {'max_depth': 1}               0.80               0.88   \n",
       "1               6   {'max_depth': 6}               0.88               0.72   \n",
       "2              11  {'max_depth': 11}               0.76               0.68   \n",
       "3              16  {'max_depth': 16}               0.88               0.76   \n",
       "4              21  {'max_depth': 21}               0.72               0.76   \n",
       "\n",
       "   split2_test_score  split3_test_score       ...         split2_train_score  \\\n",
       "0               0.88               0.72       ...                   0.824885   \n",
       "1               0.84               0.80       ...                   0.976959   \n",
       "2               0.80               0.76       ...                   0.986175   \n",
       "3               0.76               0.76       ...                   0.995392   \n",
       "4               0.76               0.72       ...                   0.990783   \n",
       "\n",
       "   split3_train_score  split4_train_score  split5_train_score  \\\n",
       "0            0.834101            0.797235            0.784404   \n",
       "1            0.986175            0.963134            0.972477   \n",
       "2            1.000000            1.000000            0.981651   \n",
       "3            0.995392            1.000000            0.990826   \n",
       "4            0.981567            1.000000            0.990826   \n",
       "\n",
       "   split6_train_score  split7_train_score  split8_train_score  \\\n",
       "0            0.811927            0.799087            0.831050   \n",
       "1            0.963303            0.972603            0.972603   \n",
       "2            1.000000            0.990868            0.995434   \n",
       "3            0.995413            0.995434            1.000000   \n",
       "4            0.986239            0.986301            0.995434   \n",
       "\n",
       "   split9_train_score  mean_train_score  std_train_score  \n",
       "0            0.803653          0.808542         0.017160  \n",
       "1            0.954338          0.969707         0.008224  \n",
       "2            0.995434          0.993574         0.005883  \n",
       "3            0.995434          0.994485         0.004962  \n",
       "4            0.986301          0.989441         0.005835  \n",
       "\n",
       "[5 rows x 31 columns]"
      ]
     },
     "execution_count": 6,
     "metadata": {},
     "output_type": "execute_result"
    }
   ],
   "source": [
    "# scores of GridSearch CV\n",
    "scores = rf.cv_results_\n",
    "pd.DataFrame(scores).head()"
   ]
  },
  {
   "cell_type": "code",
   "execution_count": 7,
   "metadata": {},
   "outputs": [
    {
     "data": {
      "image/png": "[encoded data removed]",
      "text/plain": [
       "<Figure size 432x288 with 1 Axes>"
      ]
     },
     "metadata": {
      "needs_background": "light"
     },
     "output_type": "display_data"
    }
   ],
   "source": [
    "# plotting accuracies with max_depth\n",
    "plt.figure()\n",
    "plt.plot(scores[\"param_max_depth\"], \n",
    "         scores[\"mean_train_score\"], \n",
    "         label=\"training accuracy\")\n",
    "plt.plot(scores[\"param_max_depth\"], \n",
    "         scores[\"mean_test_score\"], \n",
    "         label=\"test accuracy\")\n",
    "plt.xlabel(\"max_depth\")\n",
    "plt.ylabel(\"Accuracy\")\n",
    "plt.legend()\n",
    "plt.show()"
   ]
  },
  {
   "cell_type": "markdown",
   "metadata": {},
   "source": [
    "#### n_estimators"
   ]
  },
  {
   "cell_type": "code",
   "execution_count": 8,
   "metadata": {},
   "outputs": [
    {
     "data": {
      "text/plain": [
       "GridSearchCV(cv=10, error_score='raise-deprecating',\n",
       "       estimator=RandomForestClassifier(bootstrap=True, class_weight=None, criterion='gini',\n",
       "            max_depth=12, max_features='auto', max_leaf_nodes=None,\n",
       "            min_impurity_decrease=0.0, min_impurity_split=None,\n",
       "            min_samples_leaf=1, min_samples_split=2,\n",
       "            min_weight_fraction_leaf=0.0, n_estimators='warn', n_jobs=None,\n",
       "            oob_score=False, random_state=None, verbose=0,\n",
       "            warm_start=False),\n",
       "       fit_params=None, iid='warn', n_jobs=None,\n",
       "       param_grid={'n_estimators': range(1, 35, 5)},\n",
       "       pre_dispatch='2*n_jobs', refit=True, return_train_score='warn',\n",
       "       scoring='accuracy', verbose=0)"
      ]
     },
     "execution_count": 8,
     "metadata": {},
     "output_type": "execute_result"
    }
   ],
   "source": [
    "# specify number of folds for k-fold CV\n",
    "n_folds = 10\n",
    "\n",
    "# parameters to build the model on\n",
    "parameters = {'n_estimators': range(1, 35, 5)}\n",
    "\n",
    "# instantiate the model (note we are specifying a max_depth)\n",
    "rf = RandomForestClassifier(max_depth=12)\n",
    "\n",
    "\n",
    "# fit tree on training data\n",
    "rf = GridSearchCV(rf, parameters, \n",
    "                    cv=n_folds, \n",
    "                   scoring=\"accuracy\")\n",
    "rf.fit(X_train, y_train)"
   ]
  },
  {
   "cell_type": "code",
   "execution_count": 9,
   "metadata": {},
   "outputs": [
    {
     "data": {
      "text/html": [
       "<div>\n",
       "<style scoped>\n",
       "    .dataframe tbody tr th:only-of-type {\n",
       "        vertical-align: middle;\n",
       "    }\n",
       "\n",
       "    .dataframe tbody tr th {\n",
       "        vertical-align: top;\n",
       "    }\n",
       "\n",
       "    .dataframe thead th {\n",
       "        text-align: right;\n",
       "    }\n",
       "</style>\n",
       "<table border=\"1\" class=\"dataframe\">\n",
       "  <thead>\n",
       "    <tr style=\"text-align: right;\">\n",
       "      <th></th>\n",
       "      <th>mean_fit_time</th>\n",
       "      <th>std_fit_time</th>\n",
       "      <th>mean_score_time</th>\n",
       "      <th>std_score_time</th>\n",
       "      <th>param_n_estimators</th>\n",
       "      <th>params</th>\n",
       "      <th>split0_test_score</th>\n",
       "      <th>split1_test_score</th>\n",
       "      <th>split2_test_score</th>\n",
       "      <th>split3_test_score</th>\n",
       "      <th>...</th>\n",
       "      <th>split2_train_score</th>\n",
       "      <th>split3_train_score</th>\n",
       "      <th>split4_train_score</th>\n",
       "      <th>split5_train_score</th>\n",
       "      <th>split6_train_score</th>\n",
       "      <th>split7_train_score</th>\n",
       "      <th>split8_train_score</th>\n",
       "      <th>split9_train_score</th>\n",
       "      <th>mean_train_score</th>\n",
       "      <th>std_train_score</th>\n",
       "    </tr>\n",
       "  </thead>\n",
       "  <tbody>\n",
       "    <tr>\n",
       "      <th>0</th>\n",
       "      <td>0.004106</td>\n",
       "      <td>0.001057</td>\n",
       "      <td>0.001257</td>\n",
       "      <td>0.000194</td>\n",
       "      <td>1</td>\n",
       "      <td>{'n_estimators': 1}</td>\n",
       "      <td>0.76</td>\n",
       "      <td>0.72</td>\n",
       "      <td>0.68</td>\n",
       "      <td>0.68</td>\n",
       "      <td>...</td>\n",
       "      <td>0.880184</td>\n",
       "      <td>0.884793</td>\n",
       "      <td>0.898618</td>\n",
       "      <td>0.880734</td>\n",
       "      <td>0.857798</td>\n",
       "      <td>0.872146</td>\n",
       "      <td>0.872146</td>\n",
       "      <td>0.894977</td>\n",
       "      <td>0.881559</td>\n",
       "      <td>0.016037</td>\n",
       "    </tr>\n",
       "    <tr>\n",
       "      <th>1</th>\n",
       "      <td>0.006764</td>\n",
       "      <td>0.000566</td>\n",
       "      <td>0.001386</td>\n",
       "      <td>0.000093</td>\n",
       "      <td>6</td>\n",
       "      <td>{'n_estimators': 6}</td>\n",
       "      <td>0.80</td>\n",
       "      <td>0.76</td>\n",
       "      <td>0.72</td>\n",
       "      <td>0.84</td>\n",
       "      <td>...</td>\n",
       "      <td>0.976959</td>\n",
       "      <td>0.981567</td>\n",
       "      <td>0.986175</td>\n",
       "      <td>0.977064</td>\n",
       "      <td>0.986239</td>\n",
       "      <td>0.981735</td>\n",
       "      <td>0.986301</td>\n",
       "      <td>0.963470</td>\n",
       "      <td>0.976117</td>\n",
       "      <td>0.012320</td>\n",
       "    </tr>\n",
       "    <tr>\n",
       "      <th>2</th>\n",
       "      <td>0.010123</td>\n",
       "      <td>0.000119</td>\n",
       "      <td>0.001696</td>\n",
       "      <td>0.000081</td>\n",
       "      <td>11</td>\n",
       "      <td>{'n_estimators': 11}</td>\n",
       "      <td>0.84</td>\n",
       "      <td>0.80</td>\n",
       "      <td>0.76</td>\n",
       "      <td>0.72</td>\n",
       "      <td>...</td>\n",
       "      <td>0.995392</td>\n",
       "      <td>0.986175</td>\n",
       "      <td>0.995392</td>\n",
       "      <td>0.995413</td>\n",
       "      <td>0.990826</td>\n",
       "      <td>0.986301</td>\n",
       "      <td>0.990868</td>\n",
       "      <td>1.000000</td>\n",
       "      <td>0.993115</td>\n",
       "      <td>0.004223</td>\n",
       "    </tr>\n",
       "    <tr>\n",
       "      <th>3</th>\n",
       "      <td>0.013860</td>\n",
       "      <td>0.000254</td>\n",
       "      <td>0.001986</td>\n",
       "      <td>0.000072</td>\n",
       "      <td>16</td>\n",
       "      <td>{'n_estimators': 16}</td>\n",
       "      <td>0.80</td>\n",
       "      <td>0.80</td>\n",
       "      <td>0.84</td>\n",
       "      <td>0.72</td>\n",
       "      <td>...</td>\n",
       "      <td>1.000000</td>\n",
       "      <td>0.995392</td>\n",
       "      <td>0.995392</td>\n",
       "      <td>0.995413</td>\n",
       "      <td>0.995413</td>\n",
       "      <td>0.995434</td>\n",
       "      <td>1.000000</td>\n",
       "      <td>0.995434</td>\n",
       "      <td>0.996326</td>\n",
       "      <td>0.001837</td>\n",
       "    </tr>\n",
       "    <tr>\n",
       "      <th>4</th>\n",
       "      <td>0.017333</td>\n",
       "      <td>0.000196</td>\n",
       "      <td>0.002303</td>\n",
       "      <td>0.000090</td>\n",
       "      <td>21</td>\n",
       "      <td>{'n_estimators': 21}</td>\n",
       "      <td>0.84</td>\n",
       "      <td>0.76</td>\n",
       "      <td>0.88</td>\n",
       "      <td>0.76</td>\n",
       "      <td>...</td>\n",
       "      <td>0.995392</td>\n",
       "      <td>1.000000</td>\n",
       "      <td>0.995392</td>\n",
       "      <td>0.990826</td>\n",
       "      <td>1.000000</td>\n",
       "      <td>1.000000</td>\n",
       "      <td>0.995434</td>\n",
       "      <td>1.000000</td>\n",
       "      <td>0.996322</td>\n",
       "      <td>0.003441</td>\n",
       "    </tr>\n",
       "  </tbody>\n",
       "</table>\n",
       "<p>5 rows × 31 columns</p>\n",
       "</div>"
      ],
      "text/plain": [
       "   mean_fit_time  std_fit_time  mean_score_time  std_score_time  \\\n",
       "0       0.004106      0.001057         0.001257        0.000194   \n",
       "1       0.006764      0.000566         0.001386        0.000093   \n",
       "2       0.010123      0.000119         0.001696        0.000081   \n",
       "3       0.013860      0.000254         0.001986        0.000072   \n",
       "4       0.017333      0.000196         0.002303        0.000090   \n",
       "\n",
       "  param_n_estimators                params  split0_test_score  \\\n",
       "0                  1   {'n_estimators': 1}               0.76   \n",
       "1                  6   {'n_estimators': 6}               0.80   \n",
       "2                 11  {'n_estimators': 11}               0.84   \n",
       "3                 16  {'n_estimators': 16}               0.80   \n",
       "4                 21  {'n_estimators': 21}               0.84   \n",
       "\n",
       "   split1_test_score  split2_test_score  split3_test_score       ...         \\\n",
       "0               0.72               0.68               0.68       ...          \n",
       "1               0.76               0.72               0.84       ...          \n",
       "2               0.80               0.76               0.72       ...          \n",
       "3               0.80               0.84               0.72       ...          \n",
       "4               0.76               0.88               0.76       ...          \n",
       "\n",
       "   split2_train_score  split3_train_score  split4_train_score  \\\n",
       "0            0.880184            0.884793            0.898618   \n",
       "1            0.976959            0.981567            0.986175   \n",
       "2            0.995392            0.986175            0.995392   \n",
       "3            1.000000            0.995392            0.995392   \n",
       "4            0.995392            1.000000            0.995392   \n",
       "\n",
       "   split5_train_score  split6_train_score  split7_train_score  \\\n",
       "0            0.880734            0.857798            0.872146   \n",
       "1            0.977064            0.986239            0.981735   \n",
       "2            0.995413            0.990826            0.986301   \n",
       "3            0.995413            0.995413            0.995434   \n",
       "4            0.990826            1.000000            1.000000   \n",
       "\n",
       "   split8_train_score  split9_train_score  mean_train_score  std_train_score  \n",
       "0            0.872146            0.894977          0.881559         0.016037  \n",
       "1            0.986301            0.963470          0.976117         0.012320  \n",
       "2            0.990868            1.000000          0.993115         0.004223  \n",
       "3            1.000000            0.995434          0.996326         0.001837  \n",
       "4            0.995434            1.000000          0.996322         0.003441  \n",
       "\n",
       "[5 rows x 31 columns]"
      ]
     },
     "execution_count": 9,
     "metadata": {},
     "output_type": "execute_result"
    }
   ],
   "source": [
    "# scores of GridSearch CV\n",
    "scores = rf.cv_results_\n",
    "pd.DataFrame(scores).head()"
   ]
  },
  {
   "cell_type": "code",
   "execution_count": 10,
   "metadata": {},
   "outputs": [
    {
     "data": {
      "image/png": "[encoded data removed]",
      "text/plain": [
       "<Figure size 432x288 with 1 Axes>"
      ]
     },
     "metadata": {
      "needs_background": "light"
     },
     "output_type": "display_data"
    }
   ],
   "source": [
    "# plotting accuracies with n_estimators\n",
    "plt.figure()\n",
    "plt.plot(scores[\"param_n_estimators\"], \n",
    "         scores[\"mean_train_score\"], \n",
    "         label=\"training accuracy\")\n",
    "plt.plot(scores[\"param_n_estimators\"], \n",
    "         scores[\"mean_test_score\"], \n",
    "         label=\"test accuracy\")\n",
    "plt.xlabel(\"n_estimators\")\n",
    "plt.ylabel(\"Accuracy\")\n",
    "plt.legend()\n",
    "plt.show()"
   ]
  },
  {
   "cell_type": "markdown",
   "metadata": {},
   "source": [
    "#### max_features"
   ]
  },
  {
   "cell_type": "code",
   "execution_count": 11,
   "metadata": {},
   "outputs": [
    {
     "data": {
      "text/plain": [
       "GridSearchCV(cv=10, error_score='raise-deprecating',\n",
       "       estimator=RandomForestClassifier(bootstrap=True, class_weight=None, criterion='gini',\n",
       "            max_depth=6, max_features='auto', max_leaf_nodes=None,\n",
       "            min_impurity_decrease=0.0, min_impurity_split=None,\n",
       "            min_samples_leaf=1, min_samples_split=2,\n",
       "            min_weight_fraction_leaf=0.0, n_estimators='warn', n_jobs=None,\n",
       "            oob_score=False, random_state=None, verbose=0,\n",
       "            warm_start=False),\n",
       "       fit_params=None, iid='warn', n_jobs=None,\n",
       "       param_grid={'max_features': range(1, 15, 4)},\n",
       "       pre_dispatch='2*n_jobs', refit=True, return_train_score='warn',\n",
       "       scoring='accuracy', verbose=0)"
      ]
     },
     "execution_count": 11,
     "metadata": {},
     "output_type": "execute_result"
    }
   ],
   "source": [
    "# specify number of folds for k-fold CV\n",
    "n_folds = 10\n",
    "\n",
    "# parameters to build the model on\n",
    "parameters = {'max_features': range(1, 15, 4)}\n",
    "\n",
    "# instantiate the model\n",
    "rf = RandomForestClassifier(max_depth=6)\n",
    "\n",
    "\n",
    "# fit tree on training data\n",
    "rf = GridSearchCV(rf, parameters, \n",
    "                    cv=n_folds, \n",
    "                   scoring=\"accuracy\")\n",
    "rf.fit(X_train, y_train)"
   ]
  },
  {
   "cell_type": "code",
   "execution_count": 12,
   "metadata": {},
   "outputs": [
    {
     "data": {
      "text/html": [
       "<div>\n",
       "<style scoped>\n",
       "    .dataframe tbody tr th:only-of-type {\n",
       "        vertical-align: middle;\n",
       "    }\n",
       "\n",
       "    .dataframe tbody tr th {\n",
       "        vertical-align: top;\n",
       "    }\n",
       "\n",
       "    .dataframe thead th {\n",
       "        text-align: right;\n",
       "    }\n",
       "</style>\n",
       "<table border=\"1\" class=\"dataframe\">\n",
       "  <thead>\n",
       "    <tr style=\"text-align: right;\">\n",
       "      <th></th>\n",
       "      <th>mean_fit_time</th>\n",
       "      <th>std_fit_time</th>\n",
       "      <th>mean_score_time</th>\n",
       "      <th>std_score_time</th>\n",
       "      <th>param_max_features</th>\n",
       "      <th>params</th>\n",
       "      <th>split0_test_score</th>\n",
       "      <th>split1_test_score</th>\n",
       "      <th>split2_test_score</th>\n",
       "      <th>split3_test_score</th>\n",
       "      <th>...</th>\n",
       "      <th>split2_train_score</th>\n",
       "      <th>split3_train_score</th>\n",
       "      <th>split4_train_score</th>\n",
       "      <th>split5_train_score</th>\n",
       "      <th>split6_train_score</th>\n",
       "      <th>split7_train_score</th>\n",
       "      <th>split8_train_score</th>\n",
       "      <th>split9_train_score</th>\n",
       "      <th>mean_train_score</th>\n",
       "      <th>std_train_score</th>\n",
       "    </tr>\n",
       "  </thead>\n",
       "  <tbody>\n",
       "    <tr>\n",
       "      <th>0</th>\n",
       "      <td>0.010674</td>\n",
       "      <td>0.002937</td>\n",
       "      <td>0.001843</td>\n",
       "      <td>0.000270</td>\n",
       "      <td>1</td>\n",
       "      <td>{'max_features': 1}</td>\n",
       "      <td>0.84</td>\n",
       "      <td>0.72</td>\n",
       "      <td>0.84</td>\n",
       "      <td>0.72</td>\n",
       "      <td>...</td>\n",
       "      <td>0.949309</td>\n",
       "      <td>0.917051</td>\n",
       "      <td>0.940092</td>\n",
       "      <td>0.926606</td>\n",
       "      <td>0.940367</td>\n",
       "      <td>0.936073</td>\n",
       "      <td>0.940639</td>\n",
       "      <td>0.949772</td>\n",
       "      <td>0.934323</td>\n",
       "      <td>0.011935</td>\n",
       "    </tr>\n",
       "    <tr>\n",
       "      <th>1</th>\n",
       "      <td>0.009744</td>\n",
       "      <td>0.000213</td>\n",
       "      <td>0.001629</td>\n",
       "      <td>0.000053</td>\n",
       "      <td>5</td>\n",
       "      <td>{'max_features': 5}</td>\n",
       "      <td>0.76</td>\n",
       "      <td>0.72</td>\n",
       "      <td>0.76</td>\n",
       "      <td>0.80</td>\n",
       "      <td>...</td>\n",
       "      <td>0.963134</td>\n",
       "      <td>0.972350</td>\n",
       "      <td>0.976959</td>\n",
       "      <td>0.967890</td>\n",
       "      <td>0.986239</td>\n",
       "      <td>0.990868</td>\n",
       "      <td>0.972603</td>\n",
       "      <td>0.995434</td>\n",
       "      <td>0.974713</td>\n",
       "      <td>0.011895</td>\n",
       "    </tr>\n",
       "    <tr>\n",
       "      <th>2</th>\n",
       "      <td>0.010395</td>\n",
       "      <td>0.000141</td>\n",
       "      <td>0.001611</td>\n",
       "      <td>0.000045</td>\n",
       "      <td>9</td>\n",
       "      <td>{'max_features': 9}</td>\n",
       "      <td>0.72</td>\n",
       "      <td>0.64</td>\n",
       "      <td>0.80</td>\n",
       "      <td>0.72</td>\n",
       "      <td>...</td>\n",
       "      <td>0.981567</td>\n",
       "      <td>0.976959</td>\n",
       "      <td>0.981567</td>\n",
       "      <td>0.963303</td>\n",
       "      <td>0.958716</td>\n",
       "      <td>0.977169</td>\n",
       "      <td>0.977169</td>\n",
       "      <td>0.963470</td>\n",
       "      <td>0.974305</td>\n",
       "      <td>0.008708</td>\n",
       "    </tr>\n",
       "    <tr>\n",
       "      <th>3</th>\n",
       "      <td>0.011080</td>\n",
       "      <td>0.000120</td>\n",
       "      <td>0.001593</td>\n",
       "      <td>0.000056</td>\n",
       "      <td>13</td>\n",
       "      <td>{'max_features': 13}</td>\n",
       "      <td>0.84</td>\n",
       "      <td>0.68</td>\n",
       "      <td>0.76</td>\n",
       "      <td>0.72</td>\n",
       "      <td>...</td>\n",
       "      <td>0.967742</td>\n",
       "      <td>0.972350</td>\n",
       "      <td>0.981567</td>\n",
       "      <td>0.972477</td>\n",
       "      <td>0.963303</td>\n",
       "      <td>0.981735</td>\n",
       "      <td>0.986301</td>\n",
       "      <td>0.972603</td>\n",
       "      <td>0.977043</td>\n",
       "      <td>0.008218</td>\n",
       "    </tr>\n",
       "  </tbody>\n",
       "</table>\n",
       "<p>4 rows × 31 columns</p>\n",
       "</div>"
      ],
      "text/plain": [
       "   mean_fit_time  std_fit_time  mean_score_time  std_score_time  \\\n",
       "0       0.010674      0.002937         0.001843        0.000270   \n",
       "1       0.009744      0.000213         0.001629        0.000053   \n",
       "2       0.010395      0.000141         0.001611        0.000045   \n",
       "3       0.011080      0.000120         0.001593        0.000056   \n",
       "\n",
       "  param_max_features                params  split0_test_score  \\\n",
       "0                  1   {'max_features': 1}               0.84   \n",
       "1                  5   {'max_features': 5}               0.76   \n",
       "2                  9   {'max_features': 9}               0.72   \n",
       "3                 13  {'max_features': 13}               0.84   \n",
       "\n",
       "   split1_test_score  split2_test_score  split3_test_score       ...         \\\n",
       "0               0.72               0.84               0.72       ...          \n",
       "1               0.72               0.76               0.80       ...          \n",
       "2               0.64               0.80               0.72       ...          \n",
       "3               0.68               0.76               0.72       ...          \n",
       "\n",
       "   split2_train_score  split3_train_score  split4_train_score  \\\n",
       "0            0.949309            0.917051            0.940092   \n",
       "1            0.963134            0.972350            0.976959   \n",
       "2            0.981567            0.976959            0.981567   \n",
       "3            0.967742            0.972350            0.981567   \n",
       "\n",
       "   split5_train_score  split6_train_score  split7_train_score  \\\n",
       "0            0.926606            0.940367            0.936073   \n",
       "1            0.967890            0.986239            0.990868   \n",
       "2            0.963303            0.958716            0.977169   \n",
       "3            0.972477            0.963303            0.981735   \n",
       "\n",
       "   split8_train_score  split9_train_score  mean_train_score  std_train_score  \n",
       "0            0.940639            0.949772          0.934323         0.011935  \n",
       "1            0.972603            0.995434          0.974713         0.011895  \n",
       "2            0.977169            0.963470          0.974305         0.008708  \n",
       "3            0.986301            0.972603          0.977043         0.008218  \n",
       "\n",
       "[4 rows x 31 columns]"
      ]
     },
     "execution_count": 12,
     "metadata": {},
     "output_type": "execute_result"
    }
   ],
   "source": [
    "# scores of GridSearch CV\n",
    "scores = rf.cv_results_\n",
    "pd.DataFrame(scores).head()"
   ]
  },
  {
   "cell_type": "code",
   "execution_count": 13,
   "metadata": {},
   "outputs": [
    {
     "data": {
      "image/png": "[encoded data removed]",
      "text/plain": [
       "<Figure size 432x288 with 1 Axes>"
      ]
     },
     "metadata": {
      "needs_background": "light"
     },
     "output_type": "display_data"
    }
   ],
   "source": [
    "# plotting accuracies with max_features\n",
    "plt.figure()\n",
    "plt.plot(scores[\"param_max_features\"], \n",
    "         scores[\"mean_train_score\"], \n",
    "         label=\"training accuracy\")\n",
    "plt.plot(scores[\"param_max_features\"], \n",
    "         scores[\"mean_test_score\"], \n",
    "         label=\"test accuracy\")\n",
    "plt.xlabel(\"max_features\")\n",
    "plt.ylabel(\"Accuracy\")\n",
    "plt.legend()\n",
    "plt.show()"
   ]
  },
  {
   "cell_type": "markdown",
   "metadata": {},
   "source": [
    "#### min_samples_leaf"
   ]
  },
  {
   "cell_type": "code",
   "execution_count": 14,
   "metadata": {},
   "outputs": [
    {
     "data": {
      "text/plain": [
       "GridSearchCV(cv=10, error_score='raise-deprecating',\n",
       "       estimator=RandomForestClassifier(bootstrap=True, class_weight=None, criterion='gini',\n",
       "            max_depth=None, max_features='auto', max_leaf_nodes=None,\n",
       "            min_impurity_decrease=0.0, min_impurity_split=None,\n",
       "            min_samples_leaf=1, min_samples_split=2,\n",
       "            min_weight_fraction_leaf=0.0, n_estimators='warn', n_jobs=None,\n",
       "            oob_score=False, random_state=None, verbose=0,\n",
       "            warm_start=False),\n",
       "       fit_params=None, iid='warn', n_jobs=None,\n",
       "       param_grid={'min_samples_leaf': range(1, 30, 5)},\n",
       "       pre_dispatch='2*n_jobs', refit=True, return_train_score='warn',\n",
       "       scoring='accuracy', verbose=0)"
      ]
     },
     "execution_count": 14,
     "metadata": {},
     "output_type": "execute_result"
    }
   ],
   "source": [
    "# specify number of folds for k-fold CV\n",
    "n_folds = 10\n",
    "\n",
    "# parameters to build the model on\n",
    "parameters = {'min_samples_leaf': range(1, 30, 5)}\n",
    "\n",
    "# instantiate the model\n",
    "rf = RandomForestClassifier()\n",
    "\n",
    "\n",
    "# fit tree on training data\n",
    "rf = GridSearchCV(rf, parameters, \n",
    "                    cv=n_folds, \n",
    "                   scoring=\"accuracy\")\n",
    "rf.fit(X_train, y_train)"
   ]
  },
  {
   "cell_type": "code",
   "execution_count": 15,
   "metadata": {},
   "outputs": [
    {
     "data": {
      "text/html": [
       "<div>\n",
       "<style scoped>\n",
       "    .dataframe tbody tr th:only-of-type {\n",
       "        vertical-align: middle;\n",
       "    }\n",
       "\n",
       "    .dataframe tbody tr th {\n",
       "        vertical-align: top;\n",
       "    }\n",
       "\n",
       "    .dataframe thead th {\n",
       "        text-align: right;\n",
       "    }\n",
       "</style>\n",
       "<table border=\"1\" class=\"dataframe\">\n",
       "  <thead>\n",
       "    <tr style=\"text-align: right;\">\n",
       "      <th></th>\n",
       "      <th>mean_fit_time</th>\n",
       "      <th>std_fit_time</th>\n",
       "      <th>mean_score_time</th>\n",
       "      <th>std_score_time</th>\n",
       "      <th>param_min_samples_leaf</th>\n",
       "      <th>params</th>\n",
       "      <th>split0_test_score</th>\n",
       "      <th>split1_test_score</th>\n",
       "      <th>split2_test_score</th>\n",
       "      <th>split3_test_score</th>\n",
       "      <th>...</th>\n",
       "      <th>split2_train_score</th>\n",
       "      <th>split3_train_score</th>\n",
       "      <th>split4_train_score</th>\n",
       "      <th>split5_train_score</th>\n",
       "      <th>split6_train_score</th>\n",
       "      <th>split7_train_score</th>\n",
       "      <th>split8_train_score</th>\n",
       "      <th>split9_train_score</th>\n",
       "      <th>mean_train_score</th>\n",
       "      <th>std_train_score</th>\n",
       "    </tr>\n",
       "  </thead>\n",
       "  <tbody>\n",
       "    <tr>\n",
       "      <th>0</th>\n",
       "      <td>0.011450</td>\n",
       "      <td>0.002208</td>\n",
       "      <td>0.001798</td>\n",
       "      <td>0.000166</td>\n",
       "      <td>1</td>\n",
       "      <td>{'min_samples_leaf': 1}</td>\n",
       "      <td>0.84</td>\n",
       "      <td>0.80</td>\n",
       "      <td>0.84</td>\n",
       "      <td>0.80</td>\n",
       "      <td>...</td>\n",
       "      <td>0.981567</td>\n",
       "      <td>0.986175</td>\n",
       "      <td>0.995392</td>\n",
       "      <td>0.995413</td>\n",
       "      <td>0.981651</td>\n",
       "      <td>1.000000</td>\n",
       "      <td>1.000000</td>\n",
       "      <td>0.995434</td>\n",
       "      <td>0.991720</td>\n",
       "      <td>0.006764</td>\n",
       "    </tr>\n",
       "    <tr>\n",
       "      <th>1</th>\n",
       "      <td>0.009465</td>\n",
       "      <td>0.000682</td>\n",
       "      <td>0.001650</td>\n",
       "      <td>0.000045</td>\n",
       "      <td>6</td>\n",
       "      <td>{'min_samples_leaf': 6}</td>\n",
       "      <td>0.88</td>\n",
       "      <td>0.80</td>\n",
       "      <td>0.88</td>\n",
       "      <td>0.76</td>\n",
       "      <td>...</td>\n",
       "      <td>0.907834</td>\n",
       "      <td>0.889401</td>\n",
       "      <td>0.907834</td>\n",
       "      <td>0.912844</td>\n",
       "      <td>0.871560</td>\n",
       "      <td>0.858447</td>\n",
       "      <td>0.876712</td>\n",
       "      <td>0.876712</td>\n",
       "      <td>0.885711</td>\n",
       "      <td>0.019537</td>\n",
       "    </tr>\n",
       "    <tr>\n",
       "      <th>2</th>\n",
       "      <td>0.009529</td>\n",
       "      <td>0.000979</td>\n",
       "      <td>0.001864</td>\n",
       "      <td>0.000335</td>\n",
       "      <td>11</td>\n",
       "      <td>{'min_samples_leaf': 11}</td>\n",
       "      <td>0.84</td>\n",
       "      <td>0.72</td>\n",
       "      <td>0.84</td>\n",
       "      <td>0.80</td>\n",
       "      <td>...</td>\n",
       "      <td>0.838710</td>\n",
       "      <td>0.857143</td>\n",
       "      <td>0.843318</td>\n",
       "      <td>0.876147</td>\n",
       "      <td>0.871560</td>\n",
       "      <td>0.863014</td>\n",
       "      <td>0.863014</td>\n",
       "      <td>0.876712</td>\n",
       "      <td>0.856704</td>\n",
       "      <td>0.016161</td>\n",
       "    </tr>\n",
       "    <tr>\n",
       "      <th>3</th>\n",
       "      <td>0.009434</td>\n",
       "      <td>0.001235</td>\n",
       "      <td>0.001734</td>\n",
       "      <td>0.000201</td>\n",
       "      <td>16</td>\n",
       "      <td>{'min_samples_leaf': 16}</td>\n",
       "      <td>0.84</td>\n",
       "      <td>0.84</td>\n",
       "      <td>0.84</td>\n",
       "      <td>0.80</td>\n",
       "      <td>...</td>\n",
       "      <td>0.820276</td>\n",
       "      <td>0.847926</td>\n",
       "      <td>0.852535</td>\n",
       "      <td>0.830275</td>\n",
       "      <td>0.857798</td>\n",
       "      <td>0.872146</td>\n",
       "      <td>0.817352</td>\n",
       "      <td>0.849315</td>\n",
       "      <td>0.842043</td>\n",
       "      <td>0.016532</td>\n",
       "    </tr>\n",
       "    <tr>\n",
       "      <th>4</th>\n",
       "      <td>0.009012</td>\n",
       "      <td>0.000382</td>\n",
       "      <td>0.001650</td>\n",
       "      <td>0.000087</td>\n",
       "      <td>21</td>\n",
       "      <td>{'min_samples_leaf': 21}</td>\n",
       "      <td>0.80</td>\n",
       "      <td>0.80</td>\n",
       "      <td>0.76</td>\n",
       "      <td>0.84</td>\n",
       "      <td>...</td>\n",
       "      <td>0.801843</td>\n",
       "      <td>0.820276</td>\n",
       "      <td>0.834101</td>\n",
       "      <td>0.779817</td>\n",
       "      <td>0.848624</td>\n",
       "      <td>0.858447</td>\n",
       "      <td>0.831050</td>\n",
       "      <td>0.808219</td>\n",
       "      <td>0.820450</td>\n",
       "      <td>0.025276</td>\n",
       "    </tr>\n",
       "  </tbody>\n",
       "</table>\n",
       "<p>5 rows × 31 columns</p>\n",
       "</div>"
      ],
      "text/plain": [
       "   mean_fit_time  std_fit_time  mean_score_time  std_score_time  \\\n",
       "0       0.011450      0.002208         0.001798        0.000166   \n",
       "1       0.009465      0.000682         0.001650        0.000045   \n",
       "2       0.009529      0.000979         0.001864        0.000335   \n",
       "3       0.009434      0.001235         0.001734        0.000201   \n",
       "4       0.009012      0.000382         0.001650        0.000087   \n",
       "\n",
       "  param_min_samples_leaf                    params  split0_test_score  \\\n",
       "0                      1   {'min_samples_leaf': 1}               0.84   \n",
       "1                      6   {'min_samples_leaf': 6}               0.88   \n",
       "2                     11  {'min_samples_leaf': 11}               0.84   \n",
       "3                     16  {'min_samples_leaf': 16}               0.84   \n",
       "4                     21  {'min_samples_leaf': 21}               0.80   \n",
       "\n",
       "   split1_test_score  split2_test_score  split3_test_score       ...         \\\n",
       "0               0.80               0.84               0.80       ...          \n",
       "1               0.80               0.88               0.76       ...          \n",
       "2               0.72               0.84               0.80       ...          \n",
       "3               0.84               0.84               0.80       ...          \n",
       "4               0.80               0.76               0.84       ...          \n",
       "\n",
       "   split2_train_score  split3_train_score  split4_train_score  \\\n",
       "0            0.981567            0.986175            0.995392   \n",
       "1            0.907834            0.889401            0.907834   \n",
       "2            0.838710            0.857143            0.843318   \n",
       "3            0.820276            0.847926            0.852535   \n",
       "4            0.801843            0.820276            0.834101   \n",
       "\n",
       "   split5_train_score  split6_train_score  split7_train_score  \\\n",
       "0            0.995413            0.981651            1.000000   \n",
       "1            0.912844            0.871560            0.858447   \n",
       "2            0.876147            0.871560            0.863014   \n",
       "3            0.830275            0.857798            0.872146   \n",
       "4            0.779817            0.848624            0.858447   \n",
       "\n",
       "   split8_train_score  split9_train_score  mean_train_score  std_train_score  \n",
       "0            1.000000            0.995434          0.991720         0.006764  \n",
       "1            0.876712            0.876712          0.885711         0.019537  \n",
       "2            0.863014            0.876712          0.856704         0.016161  \n",
       "3            0.817352            0.849315          0.842043         0.016532  \n",
       "4            0.831050            0.808219          0.820450         0.025276  \n",
       "\n",
       "[5 rows x 31 columns]"
      ]
     },
     "execution_count": 15,
     "metadata": {},
     "output_type": "execute_result"
    }
   ],
   "source": [
    "# scores of GridSearch CV\n",
    "scores = rf.cv_results_\n",
    "pd.DataFrame(scores).head()"
   ]
  },
  {
   "cell_type": "code",
   "execution_count": 16,
   "metadata": {},
   "outputs": [
    {
     "data": {
      "image/png": "[encoded data removed]",
      "text/plain": [
       "<Figure size 432x288 with 1 Axes>"
      ]
     },
     "metadata": {
      "needs_background": "light"
     },
     "output_type": "display_data"
    }
   ],
   "source": [
    "# plotting accuracies with min_samples_leaf\n",
    "plt.figure()\n",
    "plt.plot(scores[\"param_min_samples_leaf\"], \n",
    "         scores[\"mean_train_score\"], \n",
    "         label=\"training accuracy\")\n",
    "plt.plot(scores[\"param_min_samples_leaf\"], \n",
    "         scores[\"mean_test_score\"], \n",
    "         label=\"test accuracy\")\n",
    "plt.xlabel(\"min_samples_leaf\")\n",
    "plt.ylabel(\"Accuracy\")\n",
    "plt.legend()\n",
    "plt.show()"
   ]
  },
  {
   "cell_type": "markdown",
   "metadata": {},
   "source": [
    "#### min_samples_split"
   ]
  },
  {
   "cell_type": "code",
   "execution_count": 17,
   "metadata": {},
   "outputs": [
    {
     "data": {
      "text/plain": [
       "GridSearchCV(cv=10, error_score='raise-deprecating',\n",
       "       estimator=RandomForestClassifier(bootstrap=True, class_weight=None, criterion='gini',\n",
       "            max_depth=None, max_features='auto', max_leaf_nodes=None,\n",
       "            min_impurity_decrease=0.0, min_impurity_split=None,\n",
       "            min_samples_leaf=1, min_samples_split=2,\n",
       "            min_weight_fraction_leaf=0.0, n_estimators='warn', n_jobs=None,\n",
       "            oob_score=False, random_state=None, verbose=0,\n",
       "            warm_start=False),\n",
       "       fit_params=None, iid='warn', n_jobs=None,\n",
       "       param_grid={'min_samples_split': range(2, 100, 10)},\n",
       "       pre_dispatch='2*n_jobs', refit=True, return_train_score='warn',\n",
       "       scoring='accuracy', verbose=0)"
      ]
     },
     "execution_count": 17,
     "metadata": {},
     "output_type": "execute_result"
    }
   ],
   "source": [
    "# specify number of folds for k-fold CV\n",
    "n_folds = 10\n",
    "\n",
    "# parameters to build the model on\n",
    "parameters = {'min_samples_split': range(2, 100, 10)}\n",
    "\n",
    "# instantiate the model\n",
    "rf = RandomForestClassifier()\n",
    "\n",
    "\n",
    "# fit tree on training data\n",
    "rf = GridSearchCV(rf, parameters, \n",
    "                    cv=n_folds, \n",
    "                   scoring=\"accuracy\")\n",
    "rf.fit(X_train, y_train)"
   ]
  },
  {
   "cell_type": "code",
   "execution_count": 18,
   "metadata": {},
   "outputs": [
    {
     "data": {
      "text/html": [
       "<div>\n",
       "<style scoped>\n",
       "    .dataframe tbody tr th:only-of-type {\n",
       "        vertical-align: middle;\n",
       "    }\n",
       "\n",
       "    .dataframe tbody tr th {\n",
       "        vertical-align: top;\n",
       "    }\n",
       "\n",
       "    .dataframe thead th {\n",
       "        text-align: right;\n",
       "    }\n",
       "</style>\n",
       "<table border=\"1\" class=\"dataframe\">\n",
       "  <thead>\n",
       "    <tr style=\"text-align: right;\">\n",
       "      <th></th>\n",
       "      <th>mean_fit_time</th>\n",
       "      <th>std_fit_time</th>\n",
       "      <th>mean_score_time</th>\n",
       "      <th>std_score_time</th>\n",
       "      <th>param_min_samples_split</th>\n",
       "      <th>params</th>\n",
       "      <th>split0_test_score</th>\n",
       "      <th>split1_test_score</th>\n",
       "      <th>split2_test_score</th>\n",
       "      <th>split3_test_score</th>\n",
       "      <th>...</th>\n",
       "      <th>split2_train_score</th>\n",
       "      <th>split3_train_score</th>\n",
       "      <th>split4_train_score</th>\n",
       "      <th>split5_train_score</th>\n",
       "      <th>split6_train_score</th>\n",
       "      <th>split7_train_score</th>\n",
       "      <th>split8_train_score</th>\n",
       "      <th>split9_train_score</th>\n",
       "      <th>mean_train_score</th>\n",
       "      <th>std_train_score</th>\n",
       "    </tr>\n",
       "  </thead>\n",
       "  <tbody>\n",
       "    <tr>\n",
       "      <th>0</th>\n",
       "      <td>0.011051</td>\n",
       "      <td>0.001809</td>\n",
       "      <td>0.001711</td>\n",
       "      <td>0.000174</td>\n",
       "      <td>2</td>\n",
       "      <td>{'min_samples_split': 2}</td>\n",
       "      <td>0.72</td>\n",
       "      <td>0.76</td>\n",
       "      <td>0.72</td>\n",
       "      <td>0.80</td>\n",
       "      <td>...</td>\n",
       "      <td>0.981567</td>\n",
       "      <td>1.000000</td>\n",
       "      <td>1.000000</td>\n",
       "      <td>0.990826</td>\n",
       "      <td>0.995413</td>\n",
       "      <td>0.995434</td>\n",
       "      <td>0.995434</td>\n",
       "      <td>0.986301</td>\n",
       "      <td>0.992193</td>\n",
       "      <td>0.005839</td>\n",
       "    </tr>\n",
       "    <tr>\n",
       "      <th>1</th>\n",
       "      <td>0.009146</td>\n",
       "      <td>0.000171</td>\n",
       "      <td>0.001634</td>\n",
       "      <td>0.000068</td>\n",
       "      <td>12</td>\n",
       "      <td>{'min_samples_split': 12}</td>\n",
       "      <td>0.76</td>\n",
       "      <td>0.84</td>\n",
       "      <td>0.72</td>\n",
       "      <td>0.72</td>\n",
       "      <td>...</td>\n",
       "      <td>0.917051</td>\n",
       "      <td>0.912442</td>\n",
       "      <td>0.944700</td>\n",
       "      <td>0.899083</td>\n",
       "      <td>0.908257</td>\n",
       "      <td>0.913242</td>\n",
       "      <td>0.926941</td>\n",
       "      <td>0.904110</td>\n",
       "      <td>0.919218</td>\n",
       "      <td>0.013963</td>\n",
       "    </tr>\n",
       "    <tr>\n",
       "      <th>2</th>\n",
       "      <td>0.009906</td>\n",
       "      <td>0.001613</td>\n",
       "      <td>0.001760</td>\n",
       "      <td>0.000349</td>\n",
       "      <td>22</td>\n",
       "      <td>{'min_samples_split': 22}</td>\n",
       "      <td>0.80</td>\n",
       "      <td>0.80</td>\n",
       "      <td>0.84</td>\n",
       "      <td>0.72</td>\n",
       "      <td>...</td>\n",
       "      <td>0.870968</td>\n",
       "      <td>0.889401</td>\n",
       "      <td>0.889401</td>\n",
       "      <td>0.899083</td>\n",
       "      <td>0.903670</td>\n",
       "      <td>0.876712</td>\n",
       "      <td>0.885845</td>\n",
       "      <td>0.881279</td>\n",
       "      <td>0.886594</td>\n",
       "      <td>0.009168</td>\n",
       "    </tr>\n",
       "    <tr>\n",
       "      <th>3</th>\n",
       "      <td>0.008855</td>\n",
       "      <td>0.000152</td>\n",
       "      <td>0.001599</td>\n",
       "      <td>0.000059</td>\n",
       "      <td>32</td>\n",
       "      <td>{'min_samples_split': 32}</td>\n",
       "      <td>0.88</td>\n",
       "      <td>0.76</td>\n",
       "      <td>0.72</td>\n",
       "      <td>0.72</td>\n",
       "      <td>...</td>\n",
       "      <td>0.880184</td>\n",
       "      <td>0.903226</td>\n",
       "      <td>0.880184</td>\n",
       "      <td>0.848624</td>\n",
       "      <td>0.885321</td>\n",
       "      <td>0.835616</td>\n",
       "      <td>0.821918</td>\n",
       "      <td>0.853881</td>\n",
       "      <td>0.863707</td>\n",
       "      <td>0.023329</td>\n",
       "    </tr>\n",
       "    <tr>\n",
       "      <th>4</th>\n",
       "      <td>0.008829</td>\n",
       "      <td>0.000267</td>\n",
       "      <td>0.001601</td>\n",
       "      <td>0.000057</td>\n",
       "      <td>42</td>\n",
       "      <td>{'min_samples_split': 42}</td>\n",
       "      <td>0.88</td>\n",
       "      <td>0.76</td>\n",
       "      <td>0.80</td>\n",
       "      <td>0.68</td>\n",
       "      <td>...</td>\n",
       "      <td>0.861751</td>\n",
       "      <td>0.857143</td>\n",
       "      <td>0.857143</td>\n",
       "      <td>0.857798</td>\n",
       "      <td>0.848624</td>\n",
       "      <td>0.858447</td>\n",
       "      <td>0.826484</td>\n",
       "      <td>0.849315</td>\n",
       "      <td>0.848952</td>\n",
       "      <td>0.011388</td>\n",
       "    </tr>\n",
       "  </tbody>\n",
       "</table>\n",
       "<p>5 rows × 31 columns</p>\n",
       "</div>"
      ],
      "text/plain": [
       "   mean_fit_time  std_fit_time  mean_score_time  std_score_time  \\\n",
       "0       0.011051      0.001809         0.001711        0.000174   \n",
       "1       0.009146      0.000171         0.001634        0.000068   \n",
       "2       0.009906      0.001613         0.001760        0.000349   \n",
       "3       0.008855      0.000152         0.001599        0.000059   \n",
       "4       0.008829      0.000267         0.001601        0.000057   \n",
       "\n",
       "  param_min_samples_split                     params  split0_test_score  \\\n",
       "0                       2   {'min_samples_split': 2}               0.72   \n",
       "1                      12  {'min_samples_split': 12}               0.76   \n",
       "2                      22  {'min_samples_split': 22}               0.80   \n",
       "3                      32  {'min_samples_split': 32}               0.88   \n",
       "4                      42  {'min_samples_split': 42}               0.88   \n",
       "\n",
       "   split1_test_score  split2_test_score  split3_test_score       ...         \\\n",
       "0               0.76               0.72               0.80       ...          \n",
       "1               0.84               0.72               0.72       ...          \n",
       "2               0.80               0.84               0.72       ...          \n",
       "3               0.76               0.72               0.72       ...          \n",
       "4               0.76               0.80               0.68       ...          \n",
       "\n",
       "   split2_train_score  split3_train_score  split4_train_score  \\\n",
       "0            0.981567            1.000000            1.000000   \n",
       "1            0.917051            0.912442            0.944700   \n",
       "2            0.870968            0.889401            0.889401   \n",
       "3            0.880184            0.903226            0.880184   \n",
       "4            0.861751            0.857143            0.857143   \n",
       "\n",
       "   split5_train_score  split6_train_score  split7_train_score  \\\n",
       "0            0.990826            0.995413            0.995434   \n",
       "1            0.899083            0.908257            0.913242   \n",
       "2            0.899083            0.903670            0.876712   \n",
       "3            0.848624            0.885321            0.835616   \n",
       "4            0.857798            0.848624            0.858447   \n",
       "\n",
       "   split8_train_score  split9_train_score  mean_train_score  std_train_score  \n",
       "0            0.995434            0.986301          0.992193         0.005839  \n",
       "1            0.926941            0.904110          0.919218         0.013963  \n",
       "2            0.885845            0.881279          0.886594         0.009168  \n",
       "3            0.821918            0.853881          0.863707         0.023329  \n",
       "4            0.826484            0.849315          0.848952         0.011388  \n",
       "\n",
       "[5 rows x 31 columns]"
      ]
     },
     "execution_count": 18,
     "metadata": {},
     "output_type": "execute_result"
    }
   ],
   "source": [
    "# scores of GridSearch CV\n",
    "scores = rf.cv_results_\n",
    "pd.DataFrame(scores).head()"
   ]
  },
  {
   "cell_type": "code",
   "execution_count": 19,
   "metadata": {},
   "outputs": [
    {
     "data": {
      "image/png": "[encoded data removed]",
      "text/plain": [
       "<Figure size 432x288 with 1 Axes>"
      ]
     },
     "metadata": {
      "needs_background": "light"
     },
     "output_type": "display_data"
    }
   ],
   "source": [
    "# plotting accuracies with min_samples_split\n",
    "plt.figure()\n",
    "plt.plot(scores[\"param_min_samples_split\"], \n",
    "         scores[\"mean_train_score\"], \n",
    "         label=\"training accuracy\")\n",
    "plt.plot(scores[\"param_min_samples_split\"], \n",
    "         scores[\"mean_test_score\"], \n",
    "         label=\"test accuracy\")\n",
    "plt.xlabel(\"min_samples_split\")\n",
    "plt.ylabel(\"Accuracy\")\n",
    "plt.legend()\n",
    "plt.show()"
   ]
  },
  {
   "cell_type": "markdown",
   "metadata": {},
   "source": [
    "#### Using the tuned parameters to find the best model"
   ]
  },
  {
   "cell_type": "code",
   "execution_count": 20,
   "metadata": {},
   "outputs": [],
   "source": [
    "# Create the parameter grid based on the results of random search \n",
    "n_folds = 10\n",
    "param_grid = {\n",
    "    'max_depth': [1,5,10,15,20,25,30,35],\n",
    "    'min_samples_leaf': range(1, 13, 2),\n",
    "    'min_samples_split': range(2, 35, 2),\n",
    "    'n_estimators': range(25, 30, 1), ##this is the number of trees, dtrees don't have this\n",
    "    'max_features': range(4, 6, 2) ##how many columns you want.\n",
    "}\n",
    "# Create a based model\n",
    "rf = RandomForestClassifier()\n",
    "# Instantiate the grid search model\n",
    "grid_search = GridSearchCV(estimator = rf, param_grid = param_grid, \n",
    "                          cv = n_folds, n_jobs = -1,verbose = 1)"
   ]
  },
  {
   "cell_type": "code",
   "execution_count": 21,
   "metadata": {},
   "outputs": [
    {
     "name": "stdout",
     "output_type": "stream",
     "text": [
      "Fitting 10 folds for each of 4080 candidates, totalling 40800 fits\n"
     ]
    },
    {
     "name": "stderr",
     "output_type": "stream",
     "text": [
      "[Parallel(n_jobs=-1)]: Using backend LokyBackend with 4 concurrent workers.\n",
      "[Parallel(n_jobs=-1)]: Done  65 tasks      | elapsed:    2.9s\n",
      "[Parallel(n_jobs=-1)]: Done 665 tasks      | elapsed:   11.4s\n",
      "[Parallel(n_jobs=-1)]: Done 1665 tasks      | elapsed:   26.1s\n",
      "[Parallel(n_jobs=-1)]: Done 3065 tasks      | elapsed:   47.1s\n",
      "[Parallel(n_jobs=-1)]: Done 4865 tasks      | elapsed:  1.2min\n",
      "[Parallel(n_jobs=-1)]: Done 7065 tasks      | elapsed:  1.8min\n",
      "[Parallel(n_jobs=-1)]: Done 9665 tasks      | elapsed:  2.5min\n",
      "[Parallel(n_jobs=-1)]: Done 12665 tasks      | elapsed:  3.3min\n",
      "[Parallel(n_jobs=-1)]: Done 16065 tasks      | elapsed:  4.2min\n",
      "[Parallel(n_jobs=-1)]: Done 19865 tasks      | elapsed:  5.2min\n",
      "[Parallel(n_jobs=-1)]: Done 24065 tasks      | elapsed:  6.2min\n",
      "[Parallel(n_jobs=-1)]: Done 28665 tasks      | elapsed:  7.4min\n",
      "[Parallel(n_jobs=-1)]: Done 33665 tasks      | elapsed:  8.7min\n",
      "[Parallel(n_jobs=-1)]: Done 39065 tasks      | elapsed: 10.1min\n",
      "[Parallel(n_jobs=-1)]: Done 40800 out of 40800 | elapsed: 10.7min finished\n"
     ]
    },
    {
     "data": {
      "text/plain": [
       "GridSearchCV(cv=10, error_score='raise-deprecating',\n",
       "       estimator=RandomForestClassifier(bootstrap=True, class_weight=None, criterion='gini',\n",
       "            max_depth=None, max_features='auto', max_leaf_nodes=None,\n",
       "            min_impurity_decrease=0.0, min_impurity_split=None,\n",
       "            min_samples_leaf=1, min_samples_split=2,\n",
       "            min_weight_fraction_leaf=0.0, n_estimators='warn', n_jobs=None,\n",
       "            oob_score=False, random_state=None, verbose=0,\n",
       "            warm_start=False),\n",
       "       fit_params=None, iid='warn', n_jobs=-1,\n",
       "       param_grid={'max_depth': [1, 5, 10, 15, 20, 25, 30, 35], 'min_samples_leaf': range(1, 13, 2), 'min_samples_split': range(2, 35, 2), 'n_estimators': range(25, 30), 'max_features': range(4, 6, 2)},\n",
       "       pre_dispatch='2*n_jobs', refit=True, return_train_score='warn',\n",
       "       scoring=None, verbose=1)"
      ]
     },
     "execution_count": 21,
     "metadata": {},
     "output_type": "execute_result"
    }
   ],
   "source": [
    "# Fit the grid search to the data\n",
    "grid_search.fit(X_train, y_train)"
   ]
  },
  {
   "cell_type": "code",
   "execution_count": 22,
   "metadata": {},
   "outputs": [
    {
     "name": "stdout",
     "output_type": "stream",
     "text": [
      "We can get accuracy of 0.8512396694214877 using {'max_depth': 5, 'max_features': 4, 'min_samples_leaf': 7, 'min_samples_split': 18, 'n_estimators': 29}\n"
     ]
    }
   ],
   "source": [
    "# printing the optimal accuracy score and hyperparameters\n",
    "print('We can get accuracy of',grid_search.best_score_,'using',grid_search.best_params_)"
   ]
  },
  {
   "cell_type": "code",
   "execution_count": 56,
   "metadata": {},
   "outputs": [
    {
     "name": "stdout",
     "output_type": "stream",
     "text": [
      "Train Result:\n",
      "\n",
      "accuracy score: 0.8719\n",
      "\n",
      "Classification Report: \n",
      "               precision    recall  f1-score   support\n",
      "\n",
      "           0       0.90      0.82      0.86       115\n",
      "           1       0.85      0.92      0.88       127\n",
      "\n",
      "   micro avg       0.87      0.87      0.87       242\n",
      "   macro avg       0.88      0.87      0.87       242\n",
      "weighted avg       0.87      0.87      0.87       242\n",
      "\n",
      "\n",
      "Confusion Matrix: \n",
      " [[ 94  21]\n",
      " [ 10 117]]\n",
      "\n",
      "Average Accuracy: \t 0.8281\n",
      "Accuracy SD: \t\t 0.0695\n",
      "\n",
      "-----------------------------------------------------\n",
      "\n",
      "Test Result:\n",
      "\n",
      "accuracy score: 0.8852\n",
      "\n",
      "Classification Report: \n",
      "               precision    recall  f1-score   support\n",
      "\n",
      "           0       0.86      0.83      0.84        23\n",
      "           1       0.90      0.92      0.91        38\n",
      "\n",
      "   micro avg       0.89      0.89      0.89        61\n",
      "   macro avg       0.88      0.87      0.88        61\n",
      "weighted avg       0.88      0.89      0.88        61\n",
      "\n",
      "\n",
      "Confusion Matrix: \n",
      " [[19  4]\n",
      " [ 3 35]]\n",
      "\n"
     ]
    }
   ],
   "source": [
    "# model with the best hyperparameters\n",
    "rf = RandomForestClassifier(bootstrap=True,\n",
    "                             max_depth=5,\n",
    "                             min_samples_leaf=7, \n",
    "                             min_samples_split=18,\n",
    "                             max_features=4,\n",
    "                             n_estimators=29)\n",
    "rf.fit(X_train, y_train)\n",
    "print_score(rf, X_train, y_train, X_test, y_test, train=True)\n",
    "print_score(rf, X_train, y_train, X_test, y_test, train=False)"
   ]
  },
  {
   "cell_type": "markdown",
   "metadata": {},
   "source": [
    "### After tuning the Random Forest model the accuracy score for the training data: 89.26% with a stdev 0.057"
   ]
  },
  {
   "cell_type": "markdown",
   "metadata": {},
   "source": [
    "### After tuning the Random Forest model the accuracy score on the test data is: 90.16%"
   ]
  },
  {
   "cell_type": "markdown",
   "metadata": {},
   "source": [
    "------ "
   ]
  },
  {
   "cell_type": "code",
   "execution_count": 24,
   "metadata": {},
   "outputs": [
    {
     "data": {
      "image/png": "[encoded data removed]",
      "text/plain": [
       "<Figure size 1440x720 with 1 Axes>"
      ]
     },
     "metadata": {
      "needs_background": "light"
     },
     "output_type": "display_data"
    }
   ],
   "source": [
    "feats = {} # a dict to hold feature_name: feature_importance\n",
    "for feature, importance in zip(X_train.columns, rf.feature_importances_):\n",
    "    feats[feature] = importance #add the name/value pair \n",
    "\n",
    "importances = pd.DataFrame.from_dict(feats, orient='index').rename(columns={0: 'Gini-importance'})\n",
    "importances.sort_values(by='Gini-importance', ascending =False).head(8).plot(kind='bar', rot=45, figsize=(20,10));"
   ]
  },
  {
   "cell_type": "markdown",
   "metadata": {},
   "source": [
    "-------------"
   ]
  },
  {
   "cell_type": "markdown",
   "metadata": {},
   "source": [
    "# Extreme Gradiant Boosting Tuning"
   ]
  },
  {
   "cell_type": "code",
   "execution_count": 25,
   "metadata": {},
   "outputs": [],
   "source": [
    "from numpy import loadtxt\n",
    "from numpy import sort\n",
    "from xgboost import XGBClassifier ## here;s the only i'm taking about -- go to anaconda prompt and type pip install xgboost\n",
    "from sklearn.model_selection import train_test_split\n",
    "from sklearn.metrics import accuracy_score\n",
    "from sklearn.feature_selection import SelectFromModel \n",
    "from sklearn.model_selection import GridSearchCV ## same as one we did for Decision trees and RF\n",
    "from sklearn.model_selection import StratifiedKFold ## k fold cross validation.\n",
    "from sklearn.preprocessing import LabelEncoder ##same as before.\n",
    "import matplotlib.pyplot as pyplot"
   ]
  },
  {
   "cell_type": "code",
   "execution_count": 26,
   "metadata": {},
   "outputs": [],
   "source": [
    "xgb = XGBClassifier()\n",
    "xgb.fit(X_train, y_train)\n",
    "eval_set = [(X_test, y_test)]"
   ]
  },
  {
   "cell_type": "markdown",
   "metadata": {},
   "source": [
    "#### Tuning XGBoost"
   ]
  },
  {
   "cell_type": "code",
   "execution_count": 28,
   "metadata": {},
   "outputs": [
    {
     "data": {
      "image/png": "[encoded data removed]",
      "text/plain": [
       "<Figure size 432x288 with 1 Axes>"
      ]
     },
     "metadata": {
      "needs_background": "light"
     },
     "output_type": "display_data"
    },
    {
     "data": {
      "image/png": "[encoded data removed]",
      "text/plain": [
       "<Figure size 432x288 with 1 Axes>"
      ]
     },
     "metadata": {
      "needs_background": "light"
     },
     "output_type": "display_data"
    },
    {
     "data": {
      "image/png": "[encoded data removed]",
      "text/plain": [
       "<Figure size 432x288 with 1 Axes>"
      ]
     },
     "metadata": {
      "needs_background": "light"
     },
     "output_type": "display_data"
    },
    {
     "data": {
      "image/png": "[encoded data removed]",
      "text/plain": [
       "<Figure size 432x288 with 1 Axes>"
      ]
     },
     "metadata": {
      "needs_background": "light"
     },
     "output_type": "display_data"
    },
    {
     "data": {
      "image/png": "[encoded data removed]",
      "text/plain": [
       "<Figure size 432x288 with 1 Axes>"
      ]
     },
     "metadata": {
      "needs_background": "light"
     },
     "output_type": "display_data"
    },
    {
     "data": {
      "image/png": "[encoded data removed]",
      "text/plain": [
       "<Figure size 432x288 with 1 Axes>"
      ]
     },
     "metadata": {
      "needs_background": "light"
     },
     "output_type": "display_data"
    }
   ],
   "source": [
    "# GridSearchCV to find optimal min_samples_split\n",
    "# specify number of folds for k-fold CV\n",
    "n_folds = 10\n",
    "\n",
    "# parameters to build the model on\n",
    "##high learning rate implies more trees needed, low learning rate implies a lesser number of trees are needed.\n",
    "hyperparameter=['max_depth','n_estimators','learning_rate','subsample','colsample_bytree','colsample_bylevel']\n",
    "\n",
    "range  =[ \n",
    "         [2, 4, 6, 8,10],\n",
    "         [50, 100, 150, 200],\n",
    "         [0.0001, 0.001, 0.01, 0.1, 0.2, 0.3],\n",
    "         [0.1, 0.2, 0.3, 0.4, 0.5, 0.6, 0.7, 0.8, 1.0],\n",
    "         [0.1, 0.2, 0.3, 0.4, 0.5, 0.6, 0.7, 0.8, 1.0],\n",
    "         [0.1, 0.2, 0.3, 0.4, 0.5, 0.6, 0.7, 0.8, 1.0],\n",
    "]\n",
    "for var in zip(hyperparameter,range):\n",
    "    \n",
    "    parameters = {\"{}\".format(var[0]): var[1]}\n",
    "    # instantiate the model\n",
    "    dtree = XGBClassifier()\n",
    "\n",
    "    # fit tree on training data\n",
    "    tree = GridSearchCV(dtree, parameters, \n",
    "                        cv=n_folds, \n",
    "                       scoring=\"accuracy\")### you can change scoring functions right here.\n",
    "    tree.fit(X_train, y_train)\n",
    "    scores = tree.cv_results_\n",
    "\n",
    "    plt.figure()\n",
    "    plt.plot(scores['param_'+var[0]], \n",
    "             scores[\"mean_train_score\"], \n",
    "             label=\"training accuracy\")\n",
    "    plt.plot(scores['param_'+var[0]], \n",
    "             scores[\"mean_test_score\"], \n",
    "             label=\"test accuracy\")\n",
    "    plt.xlabel(var[0])\n",
    "    plt.ylabel(\"Accuracy\")\n",
    "    plt.legend()\n",
    "    plt.show()"
   ]
  },
  {
   "cell_type": "code",
   "execution_count": 32,
   "metadata": {},
   "outputs": [],
   "source": [
    "n_folds = 10\n",
    "param_grid = {    \n",
    " 'max_depth':[2,3,4,5,6,7],\n",
    " 'n_estimators':[85,90,95,100,105,110,115],\n",
    " 'learning_rate':[0.08,0.09,0.10,0.11,0.12],\n",
    " 'subsample':[0.2, 0.3, 0.4,0.5,0.6,0.7,0.8,0.9,1.0],\n",
    " 'colsample_bytree':[ 0.2,0.3, 0.4, 0.5, 0.6,0.7,0.8,0.9,1.0],\n",
    " 'colsample_bylevel':[0.1,.02,.03,0.4,0.5,0.6],}\n",
    "# Create a based model\n",
    "xgb = XGBClassifier()\n",
    "# Instantiate the grid search model\n",
    "xgb_grid = GridSearchCV(estimator = xgb, param_grid = param_grid, \n",
    "                          cv = 10, n_jobs = -1,verbose = 1)"
   ]
  },
  {
   "cell_type": "code",
   "execution_count": 33,
   "metadata": {
    "scrolled": false
   },
   "outputs": [
    {
     "name": "stdout",
     "output_type": "stream",
     "text": [
      "Fitting 10 folds for each of 102060 candidates, totalling 1020600 fits\n"
     ]
    },
    {
     "name": "stderr",
     "output_type": "stream",
     "text": [
      "[Parallel(n_jobs=-1)]: Using backend LokyBackend with 4 concurrent workers.\n",
      "[Parallel(n_jobs=-1)]: Done  85 tasks      | elapsed:    2.5s\n",
      "[Parallel(n_jobs=-1)]: Done 985 tasks      | elapsed:   14.2s\n",
      "[Parallel(n_jobs=-1)]: Done 2485 tasks      | elapsed:   36.7s\n",
      "[Parallel(n_jobs=-1)]: Done 4585 tasks      | elapsed:  1.1min\n",
      "[Parallel(n_jobs=-1)]: Done 7285 tasks      | elapsed:  1.8min\n",
      "[Parallel(n_jobs=-1)]: Done 10585 tasks      | elapsed:  2.6min\n",
      "[Parallel(n_jobs=-1)]: Done 14485 tasks      | elapsed:  3.6min\n",
      "[Parallel(n_jobs=-1)]: Done 18985 tasks      | elapsed:  4.6min\n",
      "[Parallel(n_jobs=-1)]: Done 24085 tasks      | elapsed:  5.8min\n",
      "[Parallel(n_jobs=-1)]: Done 29785 tasks      | elapsed:  7.2min\n",
      "[Parallel(n_jobs=-1)]: Done 36085 tasks      | elapsed:  8.7min\n",
      "[Parallel(n_jobs=-1)]: Done 42985 tasks      | elapsed: 10.4min\n",
      "[Parallel(n_jobs=-1)]: Done 47222 tasks      | elapsed: 19.7min\n",
      "[Parallel(n_jobs=-1)]: Done 49878 tasks      | elapsed: 20.5min\n",
      "[Parallel(n_jobs=-1)]: Done 52778 tasks      | elapsed: 21.3min\n",
      "[Parallel(n_jobs=-1)]: Done 55878 tasks      | elapsed: 22.1min\n",
      "[Parallel(n_jobs=-1)]: Done 61586 tasks      | elapsed: 23.5min\n",
      "[Parallel(n_jobs=-1)]: Done 68586 tasks      | elapsed: 25.2min\n",
      "[Parallel(n_jobs=-1)]: Done 75986 tasks      | elapsed: 27.0min\n",
      "[Parallel(n_jobs=-1)]: Done 83786 tasks      | elapsed: 28.9min\n",
      "[Parallel(n_jobs=-1)]: Done 91986 tasks      | elapsed: 30.9min\n",
      "[Parallel(n_jobs=-1)]: Done 100586 tasks      | elapsed: 33.1min\n",
      "[Parallel(n_jobs=-1)]: Done 109586 tasks      | elapsed: 35.3min\n",
      "[Parallel(n_jobs=-1)]: Done 118986 tasks      | elapsed: 37.5min\n",
      "[Parallel(n_jobs=-1)]: Done 128786 tasks      | elapsed: 39.9min\n",
      "[Parallel(n_jobs=-1)]: Done 138986 tasks      | elapsed: 42.4min\n",
      "[Parallel(n_jobs=-1)]: Done 149586 tasks      | elapsed: 45.0min\n",
      "[Parallel(n_jobs=-1)]: Done 160586 tasks      | elapsed: 47.6min\n",
      "[Parallel(n_jobs=-1)]: Done 171986 tasks      | elapsed: 50.4min\n",
      "[Parallel(n_jobs=-1)]: Done 183786 tasks      | elapsed: 53.3min\n",
      "[Parallel(n_jobs=-1)]: Done 190034 tasks      | elapsed: 55.2min\n",
      "[Parallel(n_jobs=-1)]: Done 196334 tasks      | elapsed: 56.9min\n",
      "[Parallel(n_jobs=-1)]: Done 202834 tasks      | elapsed: 59.0min\n",
      "[Parallel(n_jobs=-1)]: Done 209534 tasks      | elapsed: 61.0min\n",
      "[Parallel(n_jobs=-1)]: Done 216434 tasks      | elapsed: 63.0min\n",
      "[Parallel(n_jobs=-1)]: Done 227760 tasks      | elapsed: 66.0min\n",
      "[Parallel(n_jobs=-1)]: Done 242360 tasks      | elapsed: 69.7min\n",
      "[Parallel(n_jobs=-1)]: Done 257360 tasks      | elapsed: 73.3min\n",
      "[Parallel(n_jobs=-1)]: Done 272760 tasks      | elapsed: 77.7min\n",
      "[Parallel(n_jobs=-1)]: Done 288560 tasks      | elapsed: 81.6min\n",
      "[Parallel(n_jobs=-1)]: Done 304760 tasks      | elapsed: 85.6min\n",
      "[Parallel(n_jobs=-1)]: Done 318914 tasks      | elapsed: 90.1min\n",
      "[Parallel(n_jobs=-1)]: Done 335174 tasks      | elapsed: 105.4min\n",
      "[Parallel(n_jobs=-1)]: Done 352574 tasks      | elapsed: 109.7min\n",
      "[Parallel(n_jobs=-1)]: Done 370374 tasks      | elapsed: 114.1min\n",
      "[Parallel(n_jobs=-1)]: Done 388574 tasks      | elapsed: 118.6min\n",
      "[Parallel(n_jobs=-1)]: Done 407174 tasks      | elapsed: 123.3min\n",
      "[Parallel(n_jobs=-1)]: Done 426174 tasks      | elapsed: 127.9min\n",
      "[Parallel(n_jobs=-1)]: Done 445574 tasks      | elapsed: 132.8min\n",
      "[Parallel(n_jobs=-1)]: Done 465374 tasks      | elapsed: 137.7min\n",
      "[Parallel(n_jobs=-1)]: Done 485574 tasks      | elapsed: 142.6min\n",
      "[Parallel(n_jobs=-1)]: Done 502216 tasks      | elapsed: 257.2min\n",
      "[Parallel(n_jobs=-1)]: Done 512716 tasks      | elapsed: 261.1min\n",
      "[Parallel(n_jobs=-1)]: Done 525116 tasks      | elapsed: 264.4min\n",
      "[Parallel(n_jobs=-1)]: Done 546916 tasks      | elapsed: 269.7min\n",
      "[Parallel(n_jobs=-1)]: Done 569116 tasks      | elapsed: 276.0min\n",
      "[Parallel(n_jobs=-1)]: Done 591716 tasks      | elapsed: 282.7min\n",
      "[Parallel(n_jobs=-1)]: Done 614716 tasks      | elapsed: 289.0min\n",
      "[Parallel(n_jobs=-1)]: Done 638116 tasks      | elapsed: 295.5min\n",
      "[Parallel(n_jobs=-1)]: Done 661916 tasks      | elapsed: 302.5min\n",
      "[Parallel(n_jobs=-1)]: Done 686116 tasks      | elapsed: 310.0min\n",
      "[Parallel(n_jobs=-1)]: Done 710716 tasks      | elapsed: 316.1min\n",
      "[Parallel(n_jobs=-1)]: Done 735716 tasks      | elapsed: 322.4min\n",
      "[Parallel(n_jobs=-1)]: Done 761116 tasks      | elapsed: 329.3min\n",
      "[Parallel(n_jobs=-1)]: Done 785744 tasks      | elapsed: 339.2min\n",
      "[Parallel(n_jobs=-1)]: Done 798844 tasks      | elapsed: 343.5min\n",
      "[Parallel(n_jobs=-1)]: Done 812144 tasks      | elapsed: 348.5min\n",
      "[Parallel(n_jobs=-1)]: Done 825644 tasks      | elapsed: 353.1min\n",
      "[Parallel(n_jobs=-1)]: Done 839344 tasks      | elapsed: 357.5min\n",
      "[Parallel(n_jobs=-1)]: Done 855906 tasks      | elapsed: 362.3min\n",
      "[Parallel(n_jobs=-1)]: Done 884106 tasks      | elapsed: 369.2min\n",
      "[Parallel(n_jobs=-1)]: Done 912706 tasks      | elapsed: 377.1min\n",
      "[Parallel(n_jobs=-1)]: Done 941706 tasks      | elapsed: 385.4min\n",
      "[Parallel(n_jobs=-1)]: Done 971106 tasks      | elapsed: 394.2min\n",
      "[Parallel(n_jobs=-1)]: Done 1000906 tasks      | elapsed: 406.3min\n",
      "[Parallel(n_jobs=-1)]: Done 1020600 out of 1020600 | elapsed: 414.1min finished\n"
     ]
    },
    {
     "name": "stdout",
     "output_type": "stream",
     "text": [
      "[0]\tvalidation_0-auc:0.84611\n",
      "[1]\tvalidation_0-auc:0.854119\n",
      "[2]\tvalidation_0-auc:0.881007\n",
      "[3]\tvalidation_0-auc:0.882151\n",
      "[4]\tvalidation_0-auc:0.900458\n",
      "[5]\tvalidation_0-auc:0.892448\n",
      "[6]\tvalidation_0-auc:0.87643\n",
      "[7]\tvalidation_0-auc:0.874142\n",
      "[8]\tvalidation_0-auc:0.870709\n",
      "[9]\tvalidation_0-auc:0.871854\n",
      "[10]\tvalidation_0-auc:0.872998\n",
      "[11]\tvalidation_0-auc:0.883295\n",
      "[12]\tvalidation_0-auc:0.885584\n",
      "[13]\tvalidation_0-auc:0.891304\n",
      "[14]\tvalidation_0-auc:0.900458\n",
      "[15]\tvalidation_0-auc:0.899314\n",
      "[16]\tvalidation_0-auc:0.901602\n",
      "[17]\tvalidation_0-auc:0.906178\n",
      "[18]\tvalidation_0-auc:0.909611\n",
      "[19]\tvalidation_0-auc:0.908467\n",
      "[20]\tvalidation_0-auc:0.910755\n",
      "[21]\tvalidation_0-auc:0.910755\n",
      "[22]\tvalidation_0-auc:0.910755\n",
      "[23]\tvalidation_0-auc:0.910755\n",
      "[24]\tvalidation_0-auc:0.908467\n",
      "[25]\tvalidation_0-auc:0.907323\n",
      "[26]\tvalidation_0-auc:0.907323\n",
      "[27]\tvalidation_0-auc:0.907323\n",
      "[28]\tvalidation_0-auc:0.905034\n",
      "[29]\tvalidation_0-auc:0.909611\n",
      "[30]\tvalidation_0-auc:0.910755\n",
      "[31]\tvalidation_0-auc:0.909611\n",
      "[32]\tvalidation_0-auc:0.909611\n",
      "[33]\tvalidation_0-auc:0.913043\n",
      "[34]\tvalidation_0-auc:0.913043\n",
      "[35]\tvalidation_0-auc:0.913043\n",
      "[36]\tvalidation_0-auc:0.909611\n",
      "[37]\tvalidation_0-auc:0.909611\n",
      "[38]\tvalidation_0-auc:0.910755\n",
      "[39]\tvalidation_0-auc:0.910755\n",
      "[40]\tvalidation_0-auc:0.911899\n",
      "[41]\tvalidation_0-auc:0.913043\n",
      "[42]\tvalidation_0-auc:0.913043\n",
      "[43]\tvalidation_0-auc:0.914188\n",
      "[44]\tvalidation_0-auc:0.914188\n",
      "[45]\tvalidation_0-auc:0.913043\n",
      "[46]\tvalidation_0-auc:0.914188\n",
      "[47]\tvalidation_0-auc:0.914188\n",
      "[48]\tvalidation_0-auc:0.911899\n",
      "[49]\tvalidation_0-auc:0.916476\n",
      "[50]\tvalidation_0-auc:0.91762\n",
      "[51]\tvalidation_0-auc:0.910755\n",
      "[52]\tvalidation_0-auc:0.911899\n",
      "[53]\tvalidation_0-auc:0.910755\n",
      "[54]\tvalidation_0-auc:0.914188\n",
      "[55]\tvalidation_0-auc:0.914188\n",
      "[56]\tvalidation_0-auc:0.915332\n",
      "[57]\tvalidation_0-auc:0.915332\n",
      "[58]\tvalidation_0-auc:0.913043\n",
      "[59]\tvalidation_0-auc:0.911899\n",
      "[60]\tvalidation_0-auc:0.911899\n",
      "[61]\tvalidation_0-auc:0.913043\n",
      "[62]\tvalidation_0-auc:0.914188\n",
      "[63]\tvalidation_0-auc:0.913043\n",
      "[64]\tvalidation_0-auc:0.909611\n",
      "[65]\tvalidation_0-auc:0.908467\n",
      "[66]\tvalidation_0-auc:0.909611\n",
      "[67]\tvalidation_0-auc:0.911899\n",
      "[68]\tvalidation_0-auc:0.910755\n",
      "[69]\tvalidation_0-auc:0.910755\n",
      "[70]\tvalidation_0-auc:0.910755\n",
      "[71]\tvalidation_0-auc:0.910755\n",
      "[72]\tvalidation_0-auc:0.910755\n",
      "[73]\tvalidation_0-auc:0.911899\n",
      "[74]\tvalidation_0-auc:0.913043\n",
      "[75]\tvalidation_0-auc:0.911899\n",
      "[76]\tvalidation_0-auc:0.911899\n",
      "[77]\tvalidation_0-auc:0.911899\n",
      "[78]\tvalidation_0-auc:0.910755\n",
      "[79]\tvalidation_0-auc:0.908467\n",
      "[80]\tvalidation_0-auc:0.910755\n",
      "[81]\tvalidation_0-auc:0.909611\n",
      "[82]\tvalidation_0-auc:0.909611\n",
      "[83]\tvalidation_0-auc:0.908467\n",
      "[84]\tvalidation_0-auc:0.910755\n",
      "[85]\tvalidation_0-auc:0.909611\n",
      "[86]\tvalidation_0-auc:0.910755\n",
      "[87]\tvalidation_0-auc:0.910755\n",
      "[88]\tvalidation_0-auc:0.909611\n",
      "[89]\tvalidation_0-auc:0.910755\n",
      "[90]\tvalidation_0-auc:0.909611\n",
      "[91]\tvalidation_0-auc:0.908467\n",
      "[92]\tvalidation_0-auc:0.907323\n",
      "[93]\tvalidation_0-auc:0.908467\n",
      "[94]\tvalidation_0-auc:0.909611\n"
     ]
    },
    {
     "data": {
      "text/plain": [
       "GridSearchCV(cv=10, error_score='raise-deprecating',\n",
       "       estimator=XGBClassifier(base_score=0.5, booster='gbtree', colsample_bylevel=1,\n",
       "       colsample_bytree=1, gamma=0, learning_rate=0.1, max_delta_step=0,\n",
       "       max_depth=3, min_child_weight=1, missing=None, n_estimators=100,\n",
       "       n_jobs=1, nthread=None, objective='binary:logistic', random_state=0,\n",
       "       reg_alpha=0, reg_lambda=1, scale_pos_weight=1, seed=None,\n",
       "       silent=True, subsample=1),\n",
       "       fit_params=None, iid='warn', n_jobs=-1,\n",
       "       param_grid={'max_depth': [2, 3, 4, 5, 6, 7], 'n_estimators': [85, 90, 95, 100, 105, 110, 115], 'learning_rate': [0.08, 0.09, 0.1, 0.11, 0.12], 'subsample': [0.2, 0.3, 0.4, 0.5, 0.6, 0.7, 0.8, 0.9, 1.0], 'colsample_bytree': [0.2, 0.3, 0.4, 0.5, 0.6, 0.7, 0.8, 0.9, 1.0], 'colsample_bylevel': [0.1, 0.02, 0.03, 0.4, 0.5, 0.6]},\n",
       "       pre_dispatch='2*n_jobs', refit=True, return_train_score='warn',\n",
       "       scoring=None, verbose=1)"
      ]
     },
     "execution_count": 33,
     "metadata": {},
     "output_type": "execute_result"
    }
   ],
   "source": [
    "# Fit the grid search to the data\n",
    "xgb_grid.fit(X_train, y_train,eval_metric=\"auc\", eval_set=eval_set, verbose=True)"
   ]
  },
  {
   "cell_type": "code",
   "execution_count": 35,
   "metadata": {},
   "outputs": [
    {
     "name": "stdout",
     "output_type": "stream",
     "text": [
      "We can get accuracy of 0.8677685950413223 using {'colsample_bylevel': 0.1, 'colsample_bytree': 0.9, 'learning_rate': 0.1, 'max_depth': 4, 'n_estimators': 95, 'subsample': 1.0}\n"
     ]
    }
   ],
   "source": [
    "# printing the optimal accuracy score and hyperparameters\n",
    "print('We can get accuracy of',xgb_grid.best_score_,'using',xgb_grid.best_params_)"
   ]
  },
  {
   "cell_type": "markdown",
   "metadata": {},
   "source": [
    "#### the model with tuned features"
   ]
  },
  {
   "cell_type": "code",
   "execution_count": 49,
   "metadata": {},
   "outputs": [
    {
     "name": "stdout",
     "output_type": "stream",
     "text": [
      "Train Result:\n",
      "\n",
      "accuracy score: 0.9669\n",
      "\n",
      "Classification Report: \n",
      "               precision    recall  f1-score   support\n",
      "\n",
      "           0       0.97      0.96      0.96       115\n",
      "           1       0.96      0.98      0.97       127\n",
      "\n",
      "   micro avg       0.97      0.97      0.97       242\n",
      "   macro avg       0.97      0.97      0.97       242\n",
      "weighted avg       0.97      0.97      0.97       242\n",
      "\n",
      "\n",
      "Confusion Matrix: \n",
      " [[110   5]\n",
      " [  3 124]]\n",
      "\n",
      "Average Accuracy: \t 0.8687\n",
      "Accuracy SD: \t\t 0.0607\n",
      "\n",
      "-----------------------------------------------------\n",
      "\n",
      "Test Result:\n",
      "\n",
      "accuracy score: 0.8361\n",
      "\n",
      "Classification Report: \n",
      "               precision    recall  f1-score   support\n",
      "\n",
      "           0       0.74      0.87      0.80        23\n",
      "           1       0.91      0.82      0.86        38\n",
      "\n",
      "   micro avg       0.84      0.84      0.84        61\n",
      "   macro avg       0.83      0.84      0.83        61\n",
      "weighted avg       0.85      0.84      0.84        61\n",
      "\n",
      "\n",
      "Confusion Matrix: \n",
      " [[20  3]\n",
      " [ 7 31]]\n",
      "\n"
     ]
    }
   ],
   "source": [
    "# fit with the final parameters\n",
    "xgbfinal = XGBClassifier(bootstrap=True,\n",
    "                    subsample= 1.0,\n",
    "                             n_estimators=95,\n",
    "                             max_depth=4, \n",
    "                             learning_rate=0.1,\n",
    "                             colsample_bytree=0.9,\n",
    "                             colsample_bylevel=0.1)\n",
    "xgbfinal.fit(X_train, y_train, eval_metric=\"auc\")\n",
    "\n",
    "# make predictions for test data\n",
    "predictions = xgbfinal.predict(X_test)\n",
    "# evaluate predictions\n",
    "accuracy = accuracy_score(y_test, predictions)\n",
    "\n",
    "print_score(xgbfinal, X_train, y_train, X_test, y_test, train=True)\n",
    "print_score(xgbfinal, X_train, y_train, X_test, y_test, train=False)"
   ]
  },
  {
   "cell_type": "markdown",
   "metadata": {},
   "source": [
    "### Tuned XGBoost Score: 86.87%"
   ]
  },
  {
   "cell_type": "code",
   "execution_count": 37,
   "metadata": {},
   "outputs": [
    {
     "data": {
      "image/png": "[encoded data removed]",
      "text/plain": [
       "<Figure size 1440x720 with 1 Axes>"
      ]
     },
     "metadata": {
      "needs_background": "light"
     },
     "output_type": "display_data"
    }
   ],
   "source": [
    "feat = {} # a dict to hold feature_name: feature_importance\n",
    "for feature, importance in zip(X_train.columns, xgbfinal.feature_importances_):\n",
    "    feat[feature] = importance #add the name/value pair \n",
    "\n",
    "importance = pd.DataFrame.from_dict(feat, orient='index').rename(columns={0: 'Gini-importance'})\n",
    "importance.sort_values(by='Gini-importance', ascending =False).head(8).plot(kind='bar', rot=45, figsize=(20,10));"
   ]
  },
  {
   "cell_type": "markdown",
   "metadata": {},
   "source": [
    "### When Random Forest is tuned the top feature is chest pain but with XGB it is cholesterol."
   ]
  },
  {
   "cell_type": "markdown",
   "metadata": {},
   "source": [
    "-----"
   ]
  },
  {
   "cell_type": "markdown",
   "metadata": {},
   "source": [
    "# Random forest with AdaBoost\n",
    "\n",
    "    "
   ]
  },
  {
   "cell_type": "code",
   "execution_count": 152,
   "metadata": {},
   "outputs": [],
   "source": [
    "from sklearn.ensemble import RandomForestClassifier\n",
    "from sklearn.ensemble import AdaBoostClassifier\n",
    "from sklearn.ensemble import GradientBoostingClassifier\n",
    "from sklearn.tree import DecisionTreeClassifier\n",
    "from sklearn.datasets import load_breast_cancer\n",
    "from sklearn.datasets import load_digits\n",
    "from sklearn import metrics"
   ]
  },
  {
   "cell_type": "code",
   "execution_count": 183,
   "metadata": {},
   "outputs": [],
   "source": [
    "X=pd.read_csv('X_train.csv',  index_col=0)\n",
    "y=pd.read_csv('y_train.csv', header=-1, index_col=0)\n",
    "\n",
    "X=X.reset_index()\n",
    "y=y.reset_index()\n",
    "\n",
    "X.drop(X.columns[[0]],axis=1, inplace=True)\n",
    "y.drop(y.columns[[0]],axis=1, inplace=True)"
   ]
  },
  {
   "cell_type": "code",
   "execution_count": 184,
   "metadata": {},
   "outputs": [],
   "source": [
    "# split data into train and test/validation sets\n",
    "X_train, X_test, y_train, y_test = train_test_split(X, y, test_size=0.20, random_state=99)"
   ]
  },
  {
   "cell_type": "code",
   "execution_count": 185,
   "metadata": {},
   "outputs": [
    {
     "name": "stdout",
     "output_type": "stream",
     "text": [
      "[0.9016393442622951, 0.8524590163934426, 0.8360655737704918, 0.8688524590163934, 0.8524590163934426, 0.8360655737704918, 0.8360655737704918, 0.8688524590163934, 0.8360655737704918, 0.8360655737704918] \n",
      "the best baseline score:  0.9016393442622951\n"
     ]
    }
   ],
   "source": [
    "# adaboost with the tree as base estimator\n",
    "\n",
    "estimators = [1,2,3,4,5,6,7,8,9,10]\n",
    "\n",
    "ada_scores = []\n",
    "for n_est in estimators:\n",
    "    ABC = AdaBoostClassifier(\n",
    "    base_estimator=shallow_tree, \n",
    "    n_estimators = n_est)\n",
    "    \n",
    "    ABC.fit(X_train, y_train)\n",
    "    y_pred = ABC.predict(X_test)\n",
    "    score = metrics.accuracy_score(y_test, y_pred)\n",
    "    ada_scores.append(score)\n",
    "print(ada_scores,'\\nthe best baseline score: ',max(ada_scores)) \n",
    "    "
   ]
  },
  {
   "cell_type": "code",
   "execution_count": 187,
   "metadata": {},
   "outputs": [
    {
     "data": {
      "image/png": "[encoded data removed]",
      "text/plain": [
       "<Figure size 432x288 with 1 Axes>"
      ]
     },
     "metadata": {
      "needs_background": "light"
     },
     "output_type": "display_data"
    }
   ],
   "source": [
    "# plot test scores and n_estimators\n",
    "# plot\n",
    "plt.plot(estimators, ada_scores)\n",
    "plt.xlabel('n_estimators')\n",
    "plt.ylabel('accuracy')\n",
    "plt.ylim([0.75, 1])\n",
    "plt.show()"
   ]
  },
  {
   "cell_type": "code",
   "execution_count": 193,
   "metadata": {},
   "outputs": [
    {
     "data": {
      "text/plain": [
       "GridSearchCV(cv=10, error_score='raise-deprecating',\n",
       "       estimator=AdaBoostClassifier(algorithm='SAMME.R', base_estimator=None,\n",
       "          learning_rate=1.0, n_estimators=50, random_state=None),\n",
       "       fit_params=None, iid='warn', n_jobs=None,\n",
       "       param_grid={'n_estimators': array([ 1,  3,  5,  7,  9, 11, 13, 15, 17, 19])},\n",
       "       pre_dispatch='2*n_jobs', refit=True, return_train_score='warn',\n",
       "       scoring='accuracy', verbose=0)"
      ]
     },
     "execution_count": 193,
     "metadata": {},
     "output_type": "execute_result"
    }
   ],
   "source": [
    "# GridSearchCV to find optimal min_samples_split\n",
    "# specify number of folds for k-fold CV\n",
    "n_folds = 10\n",
    "estimators=np.arange(1,20,2)\n",
    "\n",
    "# parameters to build the model on\n",
    "parameters = {'n_estimators': (estimators)}\n",
    "\n",
    "# instantiate the model\n",
    "rftree = AdaBoostClassifier()\n",
    "\n",
    "# fit tree on training data\n",
    "adagrid = GridSearchCV(rftree, parameters, \n",
    "                    cv=n_folds, \n",
    "                   scoring=\"accuracy\")\n",
    "adagrid.fit(X_train, y_train)"
   ]
  },
  {
   "cell_type": "code",
   "execution_count": 194,
   "metadata": {},
   "outputs": [
    {
     "data": {
      "text/html": [
       "<div>\n",
       "<style scoped>\n",
       "    .dataframe tbody tr th:only-of-type {\n",
       "        vertical-align: middle;\n",
       "    }\n",
       "\n",
       "    .dataframe tbody tr th {\n",
       "        vertical-align: top;\n",
       "    }\n",
       "\n",
       "    .dataframe thead th {\n",
       "        text-align: right;\n",
       "    }\n",
       "</style>\n",
       "<table border=\"1\" class=\"dataframe\">\n",
       "  <thead>\n",
       "    <tr style=\"text-align: right;\">\n",
       "      <th></th>\n",
       "      <th>mean_fit_time</th>\n",
       "      <th>std_fit_time</th>\n",
       "      <th>mean_score_time</th>\n",
       "      <th>std_score_time</th>\n",
       "      <th>param_n_estimators</th>\n",
       "      <th>params</th>\n",
       "      <th>split0_test_score</th>\n",
       "      <th>split1_test_score</th>\n",
       "      <th>split2_test_score</th>\n",
       "      <th>split3_test_score</th>\n",
       "      <th>...</th>\n",
       "      <th>split2_train_score</th>\n",
       "      <th>split3_train_score</th>\n",
       "      <th>split4_train_score</th>\n",
       "      <th>split5_train_score</th>\n",
       "      <th>split6_train_score</th>\n",
       "      <th>split7_train_score</th>\n",
       "      <th>split8_train_score</th>\n",
       "      <th>split9_train_score</th>\n",
       "      <th>mean_train_score</th>\n",
       "      <th>std_train_score</th>\n",
       "    </tr>\n",
       "  </thead>\n",
       "  <tbody>\n",
       "    <tr>\n",
       "      <th>0</th>\n",
       "      <td>0.003681</td>\n",
       "      <td>0.000833</td>\n",
       "      <td>0.001339</td>\n",
       "      <td>0.000488</td>\n",
       "      <td>1</td>\n",
       "      <td>{'n_estimators': 1}</td>\n",
       "      <td>0.76</td>\n",
       "      <td>0.60</td>\n",
       "      <td>0.84</td>\n",
       "      <td>0.72</td>\n",
       "      <td>...</td>\n",
       "      <td>0.755760</td>\n",
       "      <td>0.769585</td>\n",
       "      <td>0.778802</td>\n",
       "      <td>0.756881</td>\n",
       "      <td>0.766055</td>\n",
       "      <td>0.748858</td>\n",
       "      <td>0.762557</td>\n",
       "      <td>0.757991</td>\n",
       "      <td>0.764488</td>\n",
       "      <td>0.010079</td>\n",
       "    </tr>\n",
       "    <tr>\n",
       "      <th>1</th>\n",
       "      <td>0.005019</td>\n",
       "      <td>0.000850</td>\n",
       "      <td>0.001231</td>\n",
       "      <td>0.000257</td>\n",
       "      <td>3</td>\n",
       "      <td>{'n_estimators': 3}</td>\n",
       "      <td>0.80</td>\n",
       "      <td>0.72</td>\n",
       "      <td>0.88</td>\n",
       "      <td>0.72</td>\n",
       "      <td>...</td>\n",
       "      <td>0.829493</td>\n",
       "      <td>0.847926</td>\n",
       "      <td>0.838710</td>\n",
       "      <td>0.839450</td>\n",
       "      <td>0.844037</td>\n",
       "      <td>0.826484</td>\n",
       "      <td>0.803653</td>\n",
       "      <td>0.831050</td>\n",
       "      <td>0.829675</td>\n",
       "      <td>0.015937</td>\n",
       "    </tr>\n",
       "    <tr>\n",
       "      <th>2</th>\n",
       "      <td>0.006247</td>\n",
       "      <td>0.000128</td>\n",
       "      <td>0.001264</td>\n",
       "      <td>0.000069</td>\n",
       "      <td>5</td>\n",
       "      <td>{'n_estimators': 5}</td>\n",
       "      <td>0.76</td>\n",
       "      <td>0.72</td>\n",
       "      <td>0.76</td>\n",
       "      <td>0.60</td>\n",
       "      <td>...</td>\n",
       "      <td>0.834101</td>\n",
       "      <td>0.861751</td>\n",
       "      <td>0.852535</td>\n",
       "      <td>0.862385</td>\n",
       "      <td>0.839450</td>\n",
       "      <td>0.849315</td>\n",
       "      <td>0.826484</td>\n",
       "      <td>0.840183</td>\n",
       "      <td>0.843901</td>\n",
       "      <td>0.011490</td>\n",
       "    </tr>\n",
       "    <tr>\n",
       "      <th>3</th>\n",
       "      <td>0.008330</td>\n",
       "      <td>0.000395</td>\n",
       "      <td>0.001484</td>\n",
       "      <td>0.000077</td>\n",
       "      <td>7</td>\n",
       "      <td>{'n_estimators': 7}</td>\n",
       "      <td>0.72</td>\n",
       "      <td>0.80</td>\n",
       "      <td>0.80</td>\n",
       "      <td>0.68</td>\n",
       "      <td>...</td>\n",
       "      <td>0.861751</td>\n",
       "      <td>0.861751</td>\n",
       "      <td>0.852535</td>\n",
       "      <td>0.876147</td>\n",
       "      <td>0.839450</td>\n",
       "      <td>0.867580</td>\n",
       "      <td>0.844749</td>\n",
       "      <td>0.867580</td>\n",
       "      <td>0.856739</td>\n",
       "      <td>0.012884</td>\n",
       "    </tr>\n",
       "    <tr>\n",
       "      <th>4</th>\n",
       "      <td>0.009933</td>\n",
       "      <td>0.000076</td>\n",
       "      <td>0.001606</td>\n",
       "      <td>0.000032</td>\n",
       "      <td>9</td>\n",
       "      <td>{'n_estimators': 9}</td>\n",
       "      <td>0.80</td>\n",
       "      <td>0.80</td>\n",
       "      <td>0.76</td>\n",
       "      <td>0.76</td>\n",
       "      <td>...</td>\n",
       "      <td>0.870968</td>\n",
       "      <td>0.870968</td>\n",
       "      <td>0.870968</td>\n",
       "      <td>0.876147</td>\n",
       "      <td>0.844037</td>\n",
       "      <td>0.858447</td>\n",
       "      <td>0.849315</td>\n",
       "      <td>0.872146</td>\n",
       "      <td>0.862728</td>\n",
       "      <td>0.011191</td>\n",
       "    </tr>\n",
       "  </tbody>\n",
       "</table>\n",
       "<p>5 rows × 31 columns</p>\n",
       "</div>"
      ],
      "text/plain": [
       "   mean_fit_time  std_fit_time  mean_score_time  std_score_time  \\\n",
       "0       0.003681      0.000833         0.001339        0.000488   \n",
       "1       0.005019      0.000850         0.001231        0.000257   \n",
       "2       0.006247      0.000128         0.001264        0.000069   \n",
       "3       0.008330      0.000395         0.001484        0.000077   \n",
       "4       0.009933      0.000076         0.001606        0.000032   \n",
       "\n",
       "  param_n_estimators               params  split0_test_score  \\\n",
       "0                  1  {'n_estimators': 1}               0.76   \n",
       "1                  3  {'n_estimators': 3}               0.80   \n",
       "2                  5  {'n_estimators': 5}               0.76   \n",
       "3                  7  {'n_estimators': 7}               0.72   \n",
       "4                  9  {'n_estimators': 9}               0.80   \n",
       "\n",
       "   split1_test_score  split2_test_score  split3_test_score       ...         \\\n",
       "0               0.60               0.84               0.72       ...          \n",
       "1               0.72               0.88               0.72       ...          \n",
       "2               0.72               0.76               0.60       ...          \n",
       "3               0.80               0.80               0.68       ...          \n",
       "4               0.80               0.76               0.76       ...          \n",
       "\n",
       "   split2_train_score  split3_train_score  split4_train_score  \\\n",
       "0            0.755760            0.769585            0.778802   \n",
       "1            0.829493            0.847926            0.838710   \n",
       "2            0.834101            0.861751            0.852535   \n",
       "3            0.861751            0.861751            0.852535   \n",
       "4            0.870968            0.870968            0.870968   \n",
       "\n",
       "   split5_train_score  split6_train_score  split7_train_score  \\\n",
       "0            0.756881            0.766055            0.748858   \n",
       "1            0.839450            0.844037            0.826484   \n",
       "2            0.862385            0.839450            0.849315   \n",
       "3            0.876147            0.839450            0.867580   \n",
       "4            0.876147            0.844037            0.858447   \n",
       "\n",
       "   split8_train_score  split9_train_score  mean_train_score  std_train_score  \n",
       "0            0.762557            0.757991          0.764488         0.010079  \n",
       "1            0.803653            0.831050          0.829675         0.015937  \n",
       "2            0.826484            0.840183          0.843901         0.011490  \n",
       "3            0.844749            0.867580          0.856739         0.012884  \n",
       "4            0.849315            0.872146          0.862728         0.011191  \n",
       "\n",
       "[5 rows x 31 columns]"
      ]
     },
     "execution_count": 194,
     "metadata": {},
     "output_type": "execute_result"
    }
   ],
   "source": [
    "# scores of GridSearch CV\n",
    "ada_scores = adagrid.cv_results_\n",
    "pd.DataFrame(ada_scores).head()"
   ]
  },
  {
   "cell_type": "code",
   "execution_count": 195,
   "metadata": {},
   "outputs": [
    {
     "data": {
      "image/png": "[encoded data removed]",
      "text/plain": [
       "<Figure size 432x288 with 1 Axes>"
      ]
     },
     "metadata": {
      "needs_background": "light"
     },
     "output_type": "display_data"
    }
   ],
   "source": [
    "# plotting accuracies with n_estimators\n",
    "plt.figure()\n",
    "plt.plot(ada_scores[\"param_n_estimators\"], \n",
    "         ada_scores[\"mean_train_score\"], \n",
    "         label=\"training accuracy\")\n",
    "plt.plot(ada_scores[\"param_n_estimators\"], \n",
    "         ada_scores[\"mean_test_score\"], \n",
    "         label=\"test accuracy\")\n",
    "plt.xlabel(\"n_estimatorss\")\n",
    "plt.ylabel(\"Accuracy\")\n",
    "plt.legend()\n",
    "plt.show()"
   ]
  },
  {
   "cell_type": "code",
   "execution_count": 197,
   "metadata": {
    "scrolled": false
   },
   "outputs": [
    {
     "data": {
      "image/png": "[encoded data removed]",
      "text/plain": [
       "<Figure size 432x288 with 1 Axes>"
      ]
     },
     "metadata": {
      "needs_background": "light"
     },
     "output_type": "display_data"
    },
    {
     "data": {
      "image/png": "[encoded data removed]",
      "text/plain": [
       "<Figure size 432x288 with 1 Axes>"
      ]
     },
     "metadata": {
      "needs_background": "light"
     },
     "output_type": "display_data"
    },
    {
     "data": {
      "image/png": "[encoded data removed]",
      "text/plain": [
       "<Figure size 432x288 with 1 Axes>"
      ]
     },
     "metadata": {
      "needs_background": "light"
     },
     "output_type": "display_data"
    },
    {
     "data": {
      "image/png": "[encoded data removed]",
      "text/plain": [
       "<Figure size 432x288 with 1 Axes>"
      ]
     },
     "metadata": {
      "needs_background": "light"
     },
     "output_type": "display_data"
    },
    {
     "data": {
      "image/png": "[encoded data removed]",
      "text/plain": [
       "<Figure size 432x288 with 1 Axes>"
      ]
     },
     "metadata": {
      "needs_background": "light"
     },
     "output_type": "display_data"
    }
   ],
   "source": [
    "# specify number of folds for k-fold CV\n",
    "n_folds = 10\n",
    "\n",
    "# parameters to build the model on\n",
    "\n",
    "hyperparameter=['max_depth','min_samples_leaf','min_samples_split','n_estimators','max_features']\n",
    "range  =[ [1,2,3,4,5,6,7,8,9,10],[1,5,10,15,17,20,35],[5,10,15,17,20,25,30,35,40,45,50],[1,3,5,6,10,15,20,25,30]\n",
    "         ,[1,2,3,4,5,6,7,8,9,10,11,12,13]]\n",
    "for var in zip(hyperparameter,range):\n",
    "    \n",
    "    parameters = {\"{}\".format(var[0]): var[1]}\n",
    "    # instantiate the model\n",
    "    dtree = RandomForestClassifier()\n",
    "\n",
    "    # fit tree on training data\n",
    "    tree = GridSearchCV(dtree, parameters, \n",
    "                        cv=n_folds, \n",
    "                       scoring=\"accuracy\")\n",
    "    tree.fit(X_train, y_train)\n",
    "    scores = tree.cv_results_\n",
    "\n",
    "    plt.figure()\n",
    "    plt.plot(scores['param_'+var[0]], \n",
    "             scores[\"mean_train_score\"], \n",
    "             label=\"training accuracy\")\n",
    "    plt.plot(scores['param_'+var[0]], \n",
    "             scores[\"mean_test_score\"], \n",
    "             label=\"test accuracy\")\n",
    "    plt.xlabel(var[0])\n",
    "    plt.ylabel(\"Accuracy\")\n",
    "    plt.legend()\n",
    "    plt.show()\n"
   ]
  },
  {
   "cell_type": "code",
   "execution_count": 210,
   "metadata": {},
   "outputs": [],
   "source": [
    "# Create the parameter grid based on the results of random search \n",
    "param_grid = {\n",
    "    'max_depth': [1],\n",
    "    'min_samples_leaf': [5,10,15,20,30,40],\n",
    "    'min_samples_split': [5,10,20,30,40,50],\n",
    "    'n_estimators': [5,10,15,20,25,30], \n",
    "    'max_features': [1]\n",
    "}\n",
    "# Create a based model\n",
    "rf = RandomForestClassifier()\n",
    "# Instantiate the grid search model\n",
    "grid_search = GridSearchCV(estimator = rf, param_grid = param_grid, \n",
    "                          cv = 2, n_jobs = -1,verbose = 1)"
   ]
  },
  {
   "cell_type": "code",
   "execution_count": 211,
   "metadata": {},
   "outputs": [
    {
     "name": "stdout",
     "output_type": "stream",
     "text": [
      "Fitting 2 folds for each of 216 candidates, totalling 432 fits\n"
     ]
    },
    {
     "name": "stderr",
     "output_type": "stream",
     "text": [
      "[Parallel(n_jobs=-1)]: Using backend LokyBackend with 4 concurrent workers.\n"
     ]
    },
    {
     "name": "stdout",
     "output_type": "stream",
     "text": [
      "We can get accuracy of 0.8305785123966942 using {'max_depth': 1, 'max_features': 1, 'min_samples_leaf': 20, 'min_samples_split': 30, 'n_estimators': 25}\n"
     ]
    },
    {
     "name": "stderr",
     "output_type": "stream",
     "text": [
      "[Parallel(n_jobs=-1)]: Done 432 out of 432 | elapsed:    4.3s finished\n"
     ]
    }
   ],
   "source": [
    "grid_search.fit(X_train, y_train)\n",
    "print('We can get accuracy of',grid_search.best_score_,'using',grid_search.best_params_)"
   ]
  },
  {
   "cell_type": "code",
   "execution_count": 212,
   "metadata": {},
   "outputs": [],
   "source": [
    "# model with the best hyperparameters\n",
    "from sklearn.ensemble import RandomForestClassifier\n",
    "rfc = RandomForestClassifier(bootstrap=True,\n",
    "                             max_depth=1,\n",
    "                             min_samples_leaf=20, \n",
    "                             min_samples_split=30,\n",
    "                             max_features=1,\n",
    "                             n_estimators=25)"
   ]
  },
  {
   "cell_type": "code",
   "execution_count": 214,
   "metadata": {},
   "outputs": [
    {
     "name": "stdout",
     "output_type": "stream",
     "text": [
      "\n",
      "the best baseline score:  0.9344262295081968\n"
     ]
    }
   ],
   "source": [
    "# adaboost with the rfc as base estimator\n",
    "\n",
    "estimators=np.arange(1,100,2)\n",
    "\n",
    "ada_scores = []\n",
    "for n_est in estimators:\n",
    "    ABC = AdaBoostClassifier(\n",
    "    base_estimator=rfc, \n",
    "    n_estimators = n_est)\n",
    "    \n",
    "    ABC.fit(X_train, y_train)\n",
    "    y_pred = ABC.predict(X_test)\n",
    "    score = metrics.accuracy_score(y_test, y_pred)\n",
    "    ada_scores.append(score)\n",
    "print('\\nthe best baseline score: ',max(ada_scores))     "
   ]
  },
  {
   "cell_type": "markdown",
   "metadata": {},
   "source": [
    "###  When boosting Random Forest model, the score jumped from 87.19% to 93.44%"
   ]
  },
  {
   "cell_type": "code",
   "execution_count": null,
   "metadata": {},
   "outputs": [],
   "source": []
  }
 ],
 "metadata": {
  "kernelspec": {
   "display_name": "Python 3",
   "language": "python",
   "name": "python3"
  },
  "language_info": {
   "codemirror_mode": {
    "name": "ipython",
    "version": 3
   },
   "file_extension": ".py",
   "mimetype": "text/x-python",
   "name": "python",
   "nbconvert_exporter": "python",
   "pygments_lexer": "ipython3",
   "version": "3.7.1"
  }
 },
 "nbformat": 4,
 "nbformat_minor": 2
}
